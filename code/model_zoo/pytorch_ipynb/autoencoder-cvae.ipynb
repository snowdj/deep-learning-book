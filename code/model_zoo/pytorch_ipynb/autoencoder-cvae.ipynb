{
 "cells": [
  {
   "cell_type": "markdown",
   "metadata": {},
   "source": [
    "*Accompanying code examples of the book \"Introduction to Artificial Neural Networks and Deep Learning: A Practical Guide with Applications in Python\" by [Sebastian Raschka](https://sebastianraschka.com). All code examples are released under the [MIT license](https://github.com/rasbt/deep-learning-book/blob/master/LICENSE). If you find this content useful, please consider supporting the work by buying a [copy of the book](https://leanpub.com/ann-and-deeplearning).*\n",
    "  \n",
    "Other code examples and content are available on [GitHub](https://github.com/rasbt/deep-learning-book). The PDF and ebook versions of the book are available through [Leanpub](https://leanpub.com/ann-and-deeplearning)."
   ]
  },
  {
   "cell_type": "code",
   "execution_count": 1,
   "metadata": {},
   "outputs": [
    {
     "name": "stdout",
     "output_type": "stream",
     "text": [
      "Sebastian Raschka \n",
      "\n",
      "CPython 3.6.7\n",
      "IPython 7.2.0\n",
      "\n",
      "torch 0.4.1\n"
     ]
    }
   ],
   "source": [
    "%load_ext watermark\n",
    "%watermark -a 'Sebastian Raschka' -v -p torch"
   ]
  },
  {
   "cell_type": "markdown",
   "metadata": {},
   "source": [
    "- Runs on CPU or GPU (if available)"
   ]
  },
  {
   "cell_type": "markdown",
   "metadata": {},
   "source": [
    "# Model Zoo -- Conditional Variational Autoencoder\n",
    "\n",
    "## (with labels in reconstruction loss)"
   ]
  },
  {
   "cell_type": "markdown",
   "metadata": {},
   "source": [
    "A simple conditional variational autoencoder that compresses 768-pixel MNIST images down to a 35-pixel latent vector representation.\n",
    "\n",
    "This implementation concatenates the inputs with the class labels when computing the reconstruction loss as it is commonly done in non-convolutional conditional variational autoencoders. This leads to sightly better results compared to the implementation that does NOT concatenate the labels with the inputs to compute the reconstruction loss. For reference, see the implementation [./autoencoder-cvae_no-out-concat.ipynb](./autoencoder-cvae_no-out-concat.ipynb)"
   ]
  },
  {
   "cell_type": "markdown",
   "metadata": {},
   "source": [
    "## Imports"
   ]
  },
  {
   "cell_type": "code",
   "execution_count": 2,
   "metadata": {},
   "outputs": [],
   "source": [
    "import numpy as np\n",
    "import torch\n",
    "import torch.nn.functional as F\n",
    "from torch.utils.data import DataLoader\n",
    "from torchvision import datasets\n",
    "from torchvision import transforms"
   ]
  },
  {
   "cell_type": "code",
   "execution_count": 3,
   "metadata": {},
   "outputs": [
    {
     "name": "stdout",
     "output_type": "stream",
     "text": [
      "Device: cuda:1\n",
      "Image batch dimensions: torch.Size([128, 1, 28, 28])\n",
      "Image label dimensions: torch.Size([128])\n"
     ]
    }
   ],
   "source": [
    "##########################\n",
    "### SETTINGS\n",
    "##########################\n",
    "\n",
    "# Device\n",
    "device = torch.device(\"cuda:1\" if torch.cuda.is_available() else \"cpu\")\n",
    "print('Device:', device)\n",
    "\n",
    "# Hyperparameters\n",
    "random_seed = 0\n",
    "learning_rate = 0.001\n",
    "num_epochs = 50\n",
    "batch_size = 128\n",
    "\n",
    "# Architecture\n",
    "num_classes = 10\n",
    "num_features = 784\n",
    "num_hidden_1 = 500\n",
    "num_latent = 35\n",
    "\n",
    "\n",
    "##########################\n",
    "### MNIST DATASET\n",
    "##########################\n",
    "\n",
    "# Note transforms.ToTensor() scales input images\n",
    "# to 0-1 range\n",
    "train_dataset = datasets.MNIST(root='data', \n",
    "                               train=True, \n",
    "                               transform=transforms.ToTensor(),\n",
    "                               download=True)\n",
    "\n",
    "test_dataset = datasets.MNIST(root='data', \n",
    "                              train=False, \n",
    "                              transform=transforms.ToTensor())\n",
    "\n",
    "\n",
    "train_loader = DataLoader(dataset=train_dataset, \n",
    "                          batch_size=batch_size, \n",
    "                          shuffle=True)\n",
    "\n",
    "test_loader = DataLoader(dataset=test_dataset, \n",
    "                         batch_size=batch_size, \n",
    "                         shuffle=False)\n",
    "\n",
    "# Checking the dataset\n",
    "for images, labels in train_loader:  \n",
    "    print('Image batch dimensions:', images.shape)\n",
    "    print('Image label dimensions:', labels.shape)\n",
    "    break"
   ]
  },
  {
   "cell_type": "markdown",
   "metadata": {},
   "source": [
    "## Model"
   ]
  },
  {
   "cell_type": "code",
   "execution_count": 4,
   "metadata": {},
   "outputs": [],
   "source": [
    "##########################\n",
    "### MODEL\n",
    "##########################\n",
    "\n",
    "\n",
    "def to_onehot(labels, num_classes, device):\n",
    "\n",
    "    labels_onehot = torch.zeros(labels.size()[0], num_classes).to(device)\n",
    "    labels_onehot.scatter_(1, labels.view(-1, 1), 1)\n",
    "\n",
    "    return labels_onehot\n",
    "\n",
    "\n",
    "class ConditionalVariationalAutoencoder(torch.nn.Module):\n",
    "\n",
    "    def __init__(self, num_features, num_hidden_1, num_latent, num_classes):\n",
    "        super(ConditionalVariationalAutoencoder, self).__init__()\n",
    "        \n",
    "        self.num_classes = num_classes\n",
    "        \n",
    "        ### ENCODER\n",
    "        self.hidden_1 = torch.nn.Linear(num_features+num_classes, num_hidden_1)\n",
    "        self.z_mean = torch.nn.Linear(num_hidden_1, num_latent)\n",
    "        # in the original paper (Kingma & Welling 2015, we use\n",
    "        # have a z_mean and z_var, but the problem is that\n",
    "        # the z_var can be negative, which would cause issues\n",
    "        # in the log later. Hence we assume that latent vector\n",
    "        # has a z_mean and z_log_var component, and when we need\n",
    "        # the regular variance or std_dev, we simply use \n",
    "        # an exponential function\n",
    "        self.z_log_var = torch.nn.Linear(num_hidden_1, num_latent)\n",
    "        \n",
    "        \n",
    "        ### DECODER\n",
    "        self.linear_3 = torch.nn.Linear(num_latent+num_classes, num_hidden_1)\n",
    "        self.linear_4 = torch.nn.Linear(num_hidden_1, num_features+num_classes)\n",
    "\n",
    "    def reparameterize(self, z_mu, z_log_var):\n",
    "        # Sample epsilon from standard normal distribution\n",
    "        eps = torch.randn(z_mu.size(0), z_mu.size(1)).to(device)\n",
    "        # note that log(x^2) = 2*log(x); hence divide by 2 to get std_dev\n",
    "        # i.e., std_dev = exp(log(std_dev^2)/2) = exp(log(var)/2)\n",
    "        z = z_mu + eps * torch.exp(z_log_var/2.) \n",
    "        return z\n",
    "        \n",
    "    def encoder(self, features, targets):\n",
    "        ### Add condition\n",
    "        onehot_targets = to_onehot(targets, self.num_classes, device)\n",
    "        x = torch.cat((features, onehot_targets), dim=1)\n",
    "\n",
    "        ### ENCODER\n",
    "        x = self.hidden_1(x)\n",
    "        x = F.leaky_relu(x)\n",
    "        z_mean = self.z_mean(x)\n",
    "        z_log_var = self.z_log_var(x)\n",
    "        encoded = self.reparameterize(z_mean, z_log_var)\n",
    "        return z_mean, z_log_var, encoded\n",
    "    \n",
    "    def decoder(self, encoded, targets):\n",
    "        ### Add condition\n",
    "        onehot_targets = to_onehot(targets, self.num_classes, device)\n",
    "        encoded = torch.cat((encoded, onehot_targets), dim=1)        \n",
    "        \n",
    "        ### DECODER\n",
    "        x = self.linear_3(encoded)\n",
    "        x = F.leaky_relu(x)\n",
    "        x = self.linear_4(x)\n",
    "        decoded = torch.sigmoid(x)\n",
    "        return decoded\n",
    "\n",
    "    def forward(self, features, targets):\n",
    "        \n",
    "        z_mean, z_log_var, encoded = self.encoder(features, targets)\n",
    "        decoded = self.decoder(encoded, targets)\n",
    "        \n",
    "        return z_mean, z_log_var, encoded, decoded\n",
    "\n",
    "    \n",
    "torch.manual_seed(random_seed)\n",
    "model = ConditionalVariationalAutoencoder(num_features,\n",
    "                                          num_hidden_1,\n",
    "                                          num_latent,\n",
    "                                          num_classes)\n",
    "model = model.to(device)\n",
    "    \n",
    "\n",
    "##########################\n",
    "### COST AND OPTIMIZER\n",
    "##########################\n",
    "\n",
    "optimizer = torch.optim.Adam(model.parameters(), lr=learning_rate)  "
   ]
  },
  {
   "cell_type": "markdown",
   "metadata": {},
   "source": [
    "## Training"
   ]
  },
  {
   "cell_type": "code",
   "execution_count": 5,
   "metadata": {},
   "outputs": [
    {
     "name": "stdout",
     "output_type": "stream",
     "text": [
      "Epoch: 001/050 | Batch 000/468 | Cost: 71038.5859\n",
      "Epoch: 001/050 | Batch 050/468 | Cost: 27687.3066\n",
      "Epoch: 001/050 | Batch 100/468 | Cost: 22471.4355\n",
      "Epoch: 001/050 | Batch 150/468 | Cost: 20541.2773\n",
      "Epoch: 001/050 | Batch 200/468 | Cost: 19669.9492\n",
      "Epoch: 001/050 | Batch 250/468 | Cost: 18062.1309\n",
      "Epoch: 001/050 | Batch 300/468 | Cost: 18189.9238\n",
      "Epoch: 001/050 | Batch 350/468 | Cost: 17141.6191\n",
      "Epoch: 001/050 | Batch 400/468 | Cost: 17093.1562\n",
      "Epoch: 001/050 | Batch 450/468 | Cost: 16486.9062\n",
      "Epoch: 002/050 | Batch 000/468 | Cost: 16556.7520\n",
      "Epoch: 002/050 | Batch 050/468 | Cost: 15891.2637\n",
      "Epoch: 002/050 | Batch 100/468 | Cost: 15615.2578\n",
      "Epoch: 002/050 | Batch 150/468 | Cost: 15622.2021\n",
      "Epoch: 002/050 | Batch 200/468 | Cost: 15241.7441\n",
      "Epoch: 002/050 | Batch 250/468 | Cost: 15594.5996\n",
      "Epoch: 002/050 | Batch 300/468 | Cost: 14550.6641\n",
      "Epoch: 002/050 | Batch 350/468 | Cost: 15094.3477\n",
      "Epoch: 002/050 | Batch 400/468 | Cost: 14834.8428\n",
      "Epoch: 002/050 | Batch 450/468 | Cost: 15258.9180\n",
      "Epoch: 003/050 | Batch 000/468 | Cost: 14898.0273\n",
      "Epoch: 003/050 | Batch 050/468 | Cost: 14883.6797\n",
      "Epoch: 003/050 | Batch 100/468 | Cost: 15025.1709\n",
      "Epoch: 003/050 | Batch 150/468 | Cost: 14450.9512\n",
      "Epoch: 003/050 | Batch 200/468 | Cost: 14715.5117\n",
      "Epoch: 003/050 | Batch 250/468 | Cost: 14263.7432\n",
      "Epoch: 003/050 | Batch 300/468 | Cost: 13832.1934\n",
      "Epoch: 003/050 | Batch 350/468 | Cost: 14181.0898\n",
      "Epoch: 003/050 | Batch 400/468 | Cost: 14296.5527\n",
      "Epoch: 003/050 | Batch 450/468 | Cost: 13529.2002\n",
      "Epoch: 004/050 | Batch 000/468 | Cost: 14164.3672\n",
      "Epoch: 004/050 | Batch 050/468 | Cost: 14024.3008\n",
      "Epoch: 004/050 | Batch 100/468 | Cost: 13922.5820\n",
      "Epoch: 004/050 | Batch 150/468 | Cost: 14172.8281\n",
      "Epoch: 004/050 | Batch 200/468 | Cost: 13917.1006\n",
      "Epoch: 004/050 | Batch 250/468 | Cost: 13887.5898\n",
      "Epoch: 004/050 | Batch 300/468 | Cost: 13344.9062\n",
      "Epoch: 004/050 | Batch 350/468 | Cost: 13463.2373\n",
      "Epoch: 004/050 | Batch 400/468 | Cost: 13659.7070\n",
      "Epoch: 004/050 | Batch 450/468 | Cost: 14241.4658\n",
      "Epoch: 005/050 | Batch 000/468 | Cost: 13397.3203\n",
      "Epoch: 005/050 | Batch 050/468 | Cost: 13533.6924\n",
      "Epoch: 005/050 | Batch 100/468 | Cost: 13839.5957\n",
      "Epoch: 005/050 | Batch 150/468 | Cost: 13416.7617\n",
      "Epoch: 005/050 | Batch 200/468 | Cost: 13506.2871\n",
      "Epoch: 005/050 | Batch 250/468 | Cost: 13828.3613\n",
      "Epoch: 005/050 | Batch 300/468 | Cost: 13471.2939\n",
      "Epoch: 005/050 | Batch 350/468 | Cost: 14026.1699\n",
      "Epoch: 005/050 | Batch 400/468 | Cost: 13222.9570\n",
      "Epoch: 005/050 | Batch 450/468 | Cost: 13140.8740\n",
      "Epoch: 006/050 | Batch 000/468 | Cost: 13836.9717\n",
      "Epoch: 006/050 | Batch 050/468 | Cost: 13385.3516\n",
      "Epoch: 006/050 | Batch 100/468 | Cost: 13483.7041\n",
      "Epoch: 006/050 | Batch 150/468 | Cost: 12868.3301\n",
      "Epoch: 006/050 | Batch 200/468 | Cost: 13970.1475\n",
      "Epoch: 006/050 | Batch 250/468 | Cost: 12970.9805\n",
      "Epoch: 006/050 | Batch 300/468 | Cost: 13682.2549\n",
      "Epoch: 006/050 | Batch 350/468 | Cost: 13319.0449\n",
      "Epoch: 006/050 | Batch 400/468 | Cost: 13291.1582\n",
      "Epoch: 006/050 | Batch 450/468 | Cost: 13205.2148\n",
      "Epoch: 007/050 | Batch 000/468 | Cost: 13693.9307\n",
      "Epoch: 007/050 | Batch 050/468 | Cost: 13190.4531\n",
      "Epoch: 007/050 | Batch 100/468 | Cost: 13191.1318\n",
      "Epoch: 007/050 | Batch 150/468 | Cost: 13298.7734\n",
      "Epoch: 007/050 | Batch 200/468 | Cost: 13183.3193\n",
      "Epoch: 007/050 | Batch 250/468 | Cost: 13134.9619\n",
      "Epoch: 007/050 | Batch 300/468 | Cost: 13254.9521\n",
      "Epoch: 007/050 | Batch 350/468 | Cost: 13155.6641\n",
      "Epoch: 007/050 | Batch 400/468 | Cost: 13670.8623\n",
      "Epoch: 007/050 | Batch 450/468 | Cost: 13517.8594\n",
      "Epoch: 008/050 | Batch 000/468 | Cost: 13527.6426\n",
      "Epoch: 008/050 | Batch 050/468 | Cost: 12913.3662\n",
      "Epoch: 008/050 | Batch 100/468 | Cost: 13440.4082\n",
      "Epoch: 008/050 | Batch 150/468 | Cost: 13005.1455\n",
      "Epoch: 008/050 | Batch 200/468 | Cost: 13157.5879\n",
      "Epoch: 008/050 | Batch 250/468 | Cost: 12978.6514\n",
      "Epoch: 008/050 | Batch 300/468 | Cost: 13111.8633\n",
      "Epoch: 008/050 | Batch 350/468 | Cost: 13427.6650\n",
      "Epoch: 008/050 | Batch 400/468 | Cost: 13796.8281\n",
      "Epoch: 008/050 | Batch 450/468 | Cost: 13303.1875\n",
      "Epoch: 009/050 | Batch 000/468 | Cost: 13061.2246\n",
      "Epoch: 009/050 | Batch 050/468 | Cost: 13259.7715\n",
      "Epoch: 009/050 | Batch 100/468 | Cost: 13411.2158\n",
      "Epoch: 009/050 | Batch 150/468 | Cost: 13258.1221\n",
      "Epoch: 009/050 | Batch 200/468 | Cost: 13110.3271\n",
      "Epoch: 009/050 | Batch 250/468 | Cost: 13444.8301\n",
      "Epoch: 009/050 | Batch 300/468 | Cost: 12754.1348\n",
      "Epoch: 009/050 | Batch 350/468 | Cost: 13327.3799\n",
      "Epoch: 009/050 | Batch 400/468 | Cost: 13390.8721\n",
      "Epoch: 009/050 | Batch 450/468 | Cost: 13176.4023\n",
      "Epoch: 010/050 | Batch 000/468 | Cost: 13007.0596\n",
      "Epoch: 010/050 | Batch 050/468 | Cost: 13357.0781\n",
      "Epoch: 010/050 | Batch 100/468 | Cost: 12740.6104\n",
      "Epoch: 010/050 | Batch 150/468 | Cost: 13025.6055\n",
      "Epoch: 010/050 | Batch 200/468 | Cost: 13084.9570\n",
      "Epoch: 010/050 | Batch 250/468 | Cost: 12720.7031\n",
      "Epoch: 010/050 | Batch 300/468 | Cost: 12582.1904\n",
      "Epoch: 010/050 | Batch 350/468 | Cost: 12560.4258\n",
      "Epoch: 010/050 | Batch 400/468 | Cost: 13309.4424\n",
      "Epoch: 010/050 | Batch 450/468 | Cost: 13015.1865\n",
      "Epoch: 011/050 | Batch 000/468 | Cost: 12803.5547\n",
      "Epoch: 011/050 | Batch 050/468 | Cost: 13004.7051\n",
      "Epoch: 011/050 | Batch 100/468 | Cost: 12993.5791\n",
      "Epoch: 011/050 | Batch 150/468 | Cost: 12345.7852\n",
      "Epoch: 011/050 | Batch 200/468 | Cost: 12602.6338\n",
      "Epoch: 011/050 | Batch 250/468 | Cost: 13388.4297\n",
      "Epoch: 011/050 | Batch 300/468 | Cost: 12784.6924\n",
      "Epoch: 011/050 | Batch 350/468 | Cost: 12217.2656\n",
      "Epoch: 011/050 | Batch 400/468 | Cost: 12728.0527\n",
      "Epoch: 011/050 | Batch 450/468 | Cost: 12847.7305\n",
      "Epoch: 012/050 | Batch 000/468 | Cost: 13135.9531\n",
      "Epoch: 012/050 | Batch 050/468 | Cost: 12670.1240\n",
      "Epoch: 012/050 | Batch 100/468 | Cost: 12475.5820\n",
      "Epoch: 012/050 | Batch 150/468 | Cost: 12637.1582\n",
      "Epoch: 012/050 | Batch 200/468 | Cost: 12651.7520\n",
      "Epoch: 012/050 | Batch 250/468 | Cost: 12965.2002\n",
      "Epoch: 012/050 | Batch 300/468 | Cost: 13034.2266\n",
      "Epoch: 012/050 | Batch 350/468 | Cost: 13027.2129\n",
      "Epoch: 012/050 | Batch 400/468 | Cost: 12723.5869\n",
      "Epoch: 012/050 | Batch 450/468 | Cost: 12586.0312\n",
      "Epoch: 013/050 | Batch 000/468 | Cost: 13076.6660\n",
      "Epoch: 013/050 | Batch 050/468 | Cost: 12976.6504\n",
      "Epoch: 013/050 | Batch 100/468 | Cost: 13128.6895\n",
      "Epoch: 013/050 | Batch 150/468 | Cost: 12453.6885\n",
      "Epoch: 013/050 | Batch 200/468 | Cost: 12600.9414\n",
      "Epoch: 013/050 | Batch 250/468 | Cost: 12539.5635\n",
      "Epoch: 013/050 | Batch 300/468 | Cost: 12820.7539\n",
      "Epoch: 013/050 | Batch 350/468 | Cost: 13111.6543\n",
      "Epoch: 013/050 | Batch 400/468 | Cost: 13013.8887\n",
      "Epoch: 013/050 | Batch 450/468 | Cost: 12576.8242\n",
      "Epoch: 014/050 | Batch 000/468 | Cost: 12883.3496\n",
      "Epoch: 014/050 | Batch 050/468 | Cost: 12557.1094\n",
      "Epoch: 014/050 | Batch 100/468 | Cost: 12961.5068\n",
      "Epoch: 014/050 | Batch 150/468 | Cost: 12552.6250\n",
      "Epoch: 014/050 | Batch 200/468 | Cost: 12397.3965\n",
      "Epoch: 014/050 | Batch 250/468 | Cost: 12714.4297\n",
      "Epoch: 014/050 | Batch 300/468 | Cost: 12180.2520\n",
      "Epoch: 014/050 | Batch 350/468 | Cost: 12851.2246\n",
      "Epoch: 014/050 | Batch 400/468 | Cost: 12970.1465\n",
      "Epoch: 014/050 | Batch 450/468 | Cost: 13002.5469\n",
      "Epoch: 015/050 | Batch 000/468 | Cost: 12586.8652\n",
      "Epoch: 015/050 | Batch 050/468 | Cost: 13218.7441\n",
      "Epoch: 015/050 | Batch 100/468 | Cost: 12476.3789\n",
      "Epoch: 015/050 | Batch 150/468 | Cost: 12860.3857\n",
      "Epoch: 015/050 | Batch 200/468 | Cost: 12632.7178\n",
      "Epoch: 015/050 | Batch 250/468 | Cost: 12569.0176\n",
      "Epoch: 015/050 | Batch 300/468 | Cost: 12549.9150\n",
      "Epoch: 015/050 | Batch 350/468 | Cost: 12839.1367\n",
      "Epoch: 015/050 | Batch 400/468 | Cost: 12561.2080\n",
      "Epoch: 015/050 | Batch 450/468 | Cost: 12886.4688\n",
      "Epoch: 016/050 | Batch 000/468 | Cost: 12416.4404\n",
      "Epoch: 016/050 | Batch 050/468 | Cost: 13149.2354\n",
      "Epoch: 016/050 | Batch 100/468 | Cost: 12903.7070\n",
      "Epoch: 016/050 | Batch 150/468 | Cost: 12574.5078\n",
      "Epoch: 016/050 | Batch 200/468 | Cost: 13211.7988\n",
      "Epoch: 016/050 | Batch 250/468 | Cost: 12526.7207\n",
      "Epoch: 016/050 | Batch 300/468 | Cost: 12940.0869\n",
      "Epoch: 016/050 | Batch 350/468 | Cost: 12388.1729\n",
      "Epoch: 016/050 | Batch 400/468 | Cost: 12594.3516\n",
      "Epoch: 016/050 | Batch 450/468 | Cost: 12132.8740\n",
      "Epoch: 017/050 | Batch 000/468 | Cost: 12961.7305\n",
      "Epoch: 017/050 | Batch 050/468 | Cost: 12469.5137\n",
      "Epoch: 017/050 | Batch 100/468 | Cost: 12949.8574\n",
      "Epoch: 017/050 | Batch 150/468 | Cost: 12912.2539\n",
      "Epoch: 017/050 | Batch 200/468 | Cost: 12352.7773\n",
      "Epoch: 017/050 | Batch 250/468 | Cost: 12921.6182\n",
      "Epoch: 017/050 | Batch 300/468 | Cost: 12387.3535\n",
      "Epoch: 017/050 | Batch 350/468 | Cost: 12684.0137\n",
      "Epoch: 017/050 | Batch 400/468 | Cost: 12352.4453\n",
      "Epoch: 017/050 | Batch 450/468 | Cost: 12862.5049\n",
      "Epoch: 018/050 | Batch 000/468 | Cost: 12566.9395\n",
      "Epoch: 018/050 | Batch 050/468 | Cost: 12519.3525\n",
      "Epoch: 018/050 | Batch 100/468 | Cost: 12454.0020\n",
      "Epoch: 018/050 | Batch 150/468 | Cost: 12823.6943\n",
      "Epoch: 018/050 | Batch 200/468 | Cost: 12670.0029\n",
      "Epoch: 018/050 | Batch 250/468 | Cost: 12206.3535\n",
      "Epoch: 018/050 | Batch 300/468 | Cost: 12349.8887\n",
      "Epoch: 018/050 | Batch 350/468 | Cost: 12946.0723\n",
      "Epoch: 018/050 | Batch 400/468 | Cost: 11998.1377\n",
      "Epoch: 018/050 | Batch 450/468 | Cost: 12968.6328\n",
      "Epoch: 019/050 | Batch 000/468 | Cost: 12547.3838\n",
      "Epoch: 019/050 | Batch 050/468 | Cost: 12751.9150\n",
      "Epoch: 019/050 | Batch 100/468 | Cost: 13124.7539\n",
      "Epoch: 019/050 | Batch 150/468 | Cost: 13064.4062\n",
      "Epoch: 019/050 | Batch 200/468 | Cost: 13102.0391\n",
      "Epoch: 019/050 | Batch 250/468 | Cost: 12479.0215\n",
      "Epoch: 019/050 | Batch 300/468 | Cost: 12813.4932\n",
      "Epoch: 019/050 | Batch 350/468 | Cost: 12030.2832\n",
      "Epoch: 019/050 | Batch 400/468 | Cost: 12798.8203\n",
      "Epoch: 019/050 | Batch 450/468 | Cost: 12883.2842\n",
      "Epoch: 020/050 | Batch 000/468 | Cost: 12934.8691\n",
      "Epoch: 020/050 | Batch 050/468 | Cost: 12998.8418\n",
      "Epoch: 020/050 | Batch 100/468 | Cost: 12513.1357\n",
      "Epoch: 020/050 | Batch 150/468 | Cost: 12982.1689\n",
      "Epoch: 020/050 | Batch 200/468 | Cost: 12942.1621\n",
      "Epoch: 020/050 | Batch 250/468 | Cost: 12728.8340\n",
      "Epoch: 020/050 | Batch 300/468 | Cost: 12917.8467\n",
      "Epoch: 020/050 | Batch 350/468 | Cost: 12481.7422\n",
      "Epoch: 020/050 | Batch 400/468 | Cost: 12783.3418\n",
      "Epoch: 020/050 | Batch 450/468 | Cost: 12588.7168\n",
      "Epoch: 021/050 | Batch 000/468 | Cost: 12112.8379\n",
      "Epoch: 021/050 | Batch 050/468 | Cost: 13026.9160\n",
      "Epoch: 021/050 | Batch 100/468 | Cost: 12700.7803\n",
      "Epoch: 021/050 | Batch 150/468 | Cost: 12349.5439\n",
      "Epoch: 021/050 | Batch 200/468 | Cost: 13007.5088\n",
      "Epoch: 021/050 | Batch 250/468 | Cost: 12170.3691\n",
      "Epoch: 021/050 | Batch 300/468 | Cost: 12196.6523\n",
      "Epoch: 021/050 | Batch 350/468 | Cost: 12778.5078\n",
      "Epoch: 021/050 | Batch 400/468 | Cost: 12896.1494\n",
      "Epoch: 021/050 | Batch 450/468 | Cost: 12804.2607\n",
      "Epoch: 022/050 | Batch 000/468 | Cost: 12679.3994\n",
      "Epoch: 022/050 | Batch 050/468 | Cost: 12829.5469\n",
      "Epoch: 022/050 | Batch 100/468 | Cost: 12563.4873\n",
      "Epoch: 022/050 | Batch 150/468 | Cost: 12618.2686\n",
      "Epoch: 022/050 | Batch 200/468 | Cost: 12811.3809\n",
      "Epoch: 022/050 | Batch 250/468 | Cost: 12619.6191\n",
      "Epoch: 022/050 | Batch 300/468 | Cost: 12405.8408\n",
      "Epoch: 022/050 | Batch 350/468 | Cost: 12966.2168\n",
      "Epoch: 022/050 | Batch 400/468 | Cost: 12560.6484\n",
      "Epoch: 022/050 | Batch 450/468 | Cost: 12310.4639\n",
      "Epoch: 023/050 | Batch 000/468 | Cost: 12880.6748\n",
      "Epoch: 023/050 | Batch 050/468 | Cost: 12876.1328\n",
      "Epoch: 023/050 | Batch 100/468 | Cost: 12409.8574\n",
      "Epoch: 023/050 | Batch 150/468 | Cost: 12304.6084\n",
      "Epoch: 023/050 | Batch 200/468 | Cost: 13022.0605\n",
      "Epoch: 023/050 | Batch 250/468 | Cost: 13071.7334\n",
      "Epoch: 023/050 | Batch 300/468 | Cost: 12436.9609\n",
      "Epoch: 023/050 | Batch 350/468 | Cost: 12595.2764\n",
      "Epoch: 023/050 | Batch 400/468 | Cost: 12721.7461\n",
      "Epoch: 023/050 | Batch 450/468 | Cost: 12215.5215\n",
      "Epoch: 024/050 | Batch 000/468 | Cost: 12384.3486\n",
      "Epoch: 024/050 | Batch 050/468 | Cost: 12278.3428\n",
      "Epoch: 024/050 | Batch 100/468 | Cost: 12173.3760\n",
      "Epoch: 024/050 | Batch 150/468 | Cost: 12740.3848\n",
      "Epoch: 024/050 | Batch 200/468 | Cost: 12797.0156\n",
      "Epoch: 024/050 | Batch 250/468 | Cost: 12221.9561\n",
      "Epoch: 024/050 | Batch 300/468 | Cost: 12603.6016\n",
      "Epoch: 024/050 | Batch 350/468 | Cost: 12499.8154\n",
      "Epoch: 024/050 | Batch 400/468 | Cost: 12488.6270\n",
      "Epoch: 024/050 | Batch 450/468 | Cost: 12152.8398\n",
      "Epoch: 025/050 | Batch 000/468 | Cost: 12914.0283\n",
      "Epoch: 025/050 | Batch 050/468 | Cost: 12474.4482\n",
      "Epoch: 025/050 | Batch 100/468 | Cost: 11864.1875\n",
      "Epoch: 025/050 | Batch 150/468 | Cost: 12609.9043\n",
      "Epoch: 025/050 | Batch 200/468 | Cost: 12291.0957\n",
      "Epoch: 025/050 | Batch 250/468 | Cost: 12554.6182\n",
      "Epoch: 025/050 | Batch 300/468 | Cost: 12408.8789\n",
      "Epoch: 025/050 | Batch 350/468 | Cost: 12918.3711\n",
      "Epoch: 025/050 | Batch 400/468 | Cost: 12660.0557\n",
      "Epoch: 025/050 | Batch 450/468 | Cost: 12615.2393\n",
      "Epoch: 026/050 | Batch 000/468 | Cost: 12309.6641\n",
      "Epoch: 026/050 | Batch 050/468 | Cost: 12650.6973\n",
      "Epoch: 026/050 | Batch 100/468 | Cost: 12627.5566\n",
      "Epoch: 026/050 | Batch 150/468 | Cost: 12445.3018\n",
      "Epoch: 026/050 | Batch 200/468 | Cost: 12737.2031\n",
      "Epoch: 026/050 | Batch 250/468 | Cost: 12391.1445\n",
      "Epoch: 026/050 | Batch 300/468 | Cost: 12993.4736\n",
      "Epoch: 026/050 | Batch 350/468 | Cost: 12645.6602\n",
      "Epoch: 026/050 | Batch 400/468 | Cost: 12360.4688\n",
      "Epoch: 026/050 | Batch 450/468 | Cost: 12564.1992\n",
      "Epoch: 027/050 | Batch 000/468 | Cost: 12670.3252\n",
      "Epoch: 027/050 | Batch 050/468 | Cost: 12964.3398\n",
      "Epoch: 027/050 | Batch 100/468 | Cost: 12891.6211\n",
      "Epoch: 027/050 | Batch 150/468 | Cost: 12436.5908\n",
      "Epoch: 027/050 | Batch 200/468 | Cost: 12822.5391\n",
      "Epoch: 027/050 | Batch 250/468 | Cost: 12753.7715\n",
      "Epoch: 027/050 | Batch 300/468 | Cost: 12749.6309\n",
      "Epoch: 027/050 | Batch 350/468 | Cost: 12988.8057\n",
      "Epoch: 027/050 | Batch 400/468 | Cost: 12722.2109\n",
      "Epoch: 027/050 | Batch 450/468 | Cost: 12477.6230\n",
      "Epoch: 028/050 | Batch 000/468 | Cost: 12183.9756\n",
      "Epoch: 028/050 | Batch 050/468 | Cost: 12728.0107\n",
      "Epoch: 028/050 | Batch 100/468 | Cost: 12300.6846\n",
      "Epoch: 028/050 | Batch 150/468 | Cost: 12377.2529\n",
      "Epoch: 028/050 | Batch 200/468 | Cost: 11990.8955\n",
      "Epoch: 028/050 | Batch 250/468 | Cost: 12747.5762\n",
      "Epoch: 028/050 | Batch 300/468 | Cost: 12703.0195\n",
      "Epoch: 028/050 | Batch 350/468 | Cost: 12708.0332\n",
      "Epoch: 028/050 | Batch 400/468 | Cost: 12573.5391\n",
      "Epoch: 028/050 | Batch 450/468 | Cost: 12762.3936\n",
      "Epoch: 029/050 | Batch 000/468 | Cost: 12726.8027\n",
      "Epoch: 029/050 | Batch 050/468 | Cost: 12436.8223\n",
      "Epoch: 029/050 | Batch 100/468 | Cost: 12095.8516\n",
      "Epoch: 029/050 | Batch 150/468 | Cost: 12519.7773\n",
      "Epoch: 029/050 | Batch 200/468 | Cost: 12296.3594\n",
      "Epoch: 029/050 | Batch 250/468 | Cost: 13220.0674\n",
      "Epoch: 029/050 | Batch 300/468 | Cost: 12115.8008\n",
      "Epoch: 029/050 | Batch 350/468 | Cost: 12558.0938\n",
      "Epoch: 029/050 | Batch 400/468 | Cost: 12449.0762\n",
      "Epoch: 029/050 | Batch 450/468 | Cost: 12670.1455\n",
      "Epoch: 030/050 | Batch 000/468 | Cost: 13196.4062\n",
      "Epoch: 030/050 | Batch 050/468 | Cost: 12620.4912\n",
      "Epoch: 030/050 | Batch 100/468 | Cost: 12580.7480\n",
      "Epoch: 030/050 | Batch 150/468 | Cost: 12489.2080\n",
      "Epoch: 030/050 | Batch 200/468 | Cost: 12463.9580\n",
      "Epoch: 030/050 | Batch 250/468 | Cost: 12414.3398\n",
      "Epoch: 030/050 | Batch 300/468 | Cost: 12797.5791\n",
      "Epoch: 030/050 | Batch 350/468 | Cost: 12114.1875\n",
      "Epoch: 030/050 | Batch 400/468 | Cost: 12415.7129\n",
      "Epoch: 030/050 | Batch 450/468 | Cost: 12913.1436\n",
      "Epoch: 031/050 | Batch 000/468 | Cost: 12577.0977\n",
      "Epoch: 031/050 | Batch 050/468 | Cost: 13021.1865\n",
      "Epoch: 031/050 | Batch 100/468 | Cost: 12646.2236\n",
      "Epoch: 031/050 | Batch 150/468 | Cost: 12561.9873\n",
      "Epoch: 031/050 | Batch 200/468 | Cost: 12580.4023\n",
      "Epoch: 031/050 | Batch 250/468 | Cost: 12320.3340\n",
      "Epoch: 031/050 | Batch 300/468 | Cost: 12524.5498\n",
      "Epoch: 031/050 | Batch 350/468 | Cost: 12723.8242\n",
      "Epoch: 031/050 | Batch 400/468 | Cost: 12454.4600\n",
      "Epoch: 031/050 | Batch 450/468 | Cost: 12793.2188\n",
      "Epoch: 032/050 | Batch 000/468 | Cost: 12553.7461\n",
      "Epoch: 032/050 | Batch 050/468 | Cost: 11981.2734\n",
      "Epoch: 032/050 | Batch 100/468 | Cost: 12278.8799\n",
      "Epoch: 032/050 | Batch 150/468 | Cost: 13206.7139\n",
      "Epoch: 032/050 | Batch 200/468 | Cost: 12933.8848\n",
      "Epoch: 032/050 | Batch 250/468 | Cost: 12963.4053\n",
      "Epoch: 032/050 | Batch 300/468 | Cost: 12331.1797\n",
      "Epoch: 032/050 | Batch 350/468 | Cost: 13164.8467\n",
      "Epoch: 032/050 | Batch 400/468 | Cost: 12490.2256\n",
      "Epoch: 032/050 | Batch 450/468 | Cost: 12520.3721\n",
      "Epoch: 033/050 | Batch 000/468 | Cost: 12480.9141\n",
      "Epoch: 033/050 | Batch 050/468 | Cost: 12627.3691\n",
      "Epoch: 033/050 | Batch 100/468 | Cost: 11782.3887\n",
      "Epoch: 033/050 | Batch 150/468 | Cost: 12856.7637\n",
      "Epoch: 033/050 | Batch 200/468 | Cost: 12306.4844\n",
      "Epoch: 033/050 | Batch 250/468 | Cost: 12474.4434\n",
      "Epoch: 033/050 | Batch 300/468 | Cost: 12892.0186\n",
      "Epoch: 033/050 | Batch 350/468 | Cost: 12391.6416\n",
      "Epoch: 033/050 | Batch 400/468 | Cost: 12690.3408\n",
      "Epoch: 033/050 | Batch 450/468 | Cost: 12412.1484\n",
      "Epoch: 034/050 | Batch 000/468 | Cost: 12631.8350\n",
      "Epoch: 034/050 | Batch 050/468 | Cost: 12574.9102\n",
      "Epoch: 034/050 | Batch 100/468 | Cost: 12682.5400\n",
      "Epoch: 034/050 | Batch 150/468 | Cost: 12821.7119\n",
      "Epoch: 034/050 | Batch 200/468 | Cost: 12462.3096\n",
      "Epoch: 034/050 | Batch 250/468 | Cost: 12710.8359\n",
      "Epoch: 034/050 | Batch 300/468 | Cost: 12329.6699\n",
      "Epoch: 034/050 | Batch 350/468 | Cost: 12777.3770\n",
      "Epoch: 034/050 | Batch 400/468 | Cost: 11632.1787\n",
      "Epoch: 034/050 | Batch 450/468 | Cost: 12448.7852\n",
      "Epoch: 035/050 | Batch 000/468 | Cost: 12512.7227\n",
      "Epoch: 035/050 | Batch 050/468 | Cost: 12445.3613\n",
      "Epoch: 035/050 | Batch 100/468 | Cost: 12675.9531\n",
      "Epoch: 035/050 | Batch 150/468 | Cost: 12542.5137\n",
      "Epoch: 035/050 | Batch 200/468 | Cost: 12114.3203\n",
      "Epoch: 035/050 | Batch 250/468 | Cost: 12259.2627\n",
      "Epoch: 035/050 | Batch 300/468 | Cost: 12264.0029\n",
      "Epoch: 035/050 | Batch 350/468 | Cost: 12596.4355\n",
      "Epoch: 035/050 | Batch 400/468 | Cost: 12305.8936\n",
      "Epoch: 035/050 | Batch 450/468 | Cost: 12735.3369\n",
      "Epoch: 036/050 | Batch 000/468 | Cost: 12437.9590\n",
      "Epoch: 036/050 | Batch 050/468 | Cost: 12455.9072\n",
      "Epoch: 036/050 | Batch 100/468 | Cost: 12471.9199\n",
      "Epoch: 036/050 | Batch 150/468 | Cost: 12196.9502\n",
      "Epoch: 036/050 | Batch 200/468 | Cost: 12472.6553\n",
      "Epoch: 036/050 | Batch 250/468 | Cost: 12531.4590\n",
      "Epoch: 036/050 | Batch 300/468 | Cost: 12672.9766\n",
      "Epoch: 036/050 | Batch 350/468 | Cost: 12431.3652\n",
      "Epoch: 036/050 | Batch 400/468 | Cost: 12176.9854\n",
      "Epoch: 036/050 | Batch 450/468 | Cost: 12781.0576\n",
      "Epoch: 037/050 | Batch 000/468 | Cost: 12378.6045\n",
      "Epoch: 037/050 | Batch 050/468 | Cost: 12567.0693\n",
      "Epoch: 037/050 | Batch 100/468 | Cost: 12547.2510\n",
      "Epoch: 037/050 | Batch 150/468 | Cost: 12100.1592\n",
      "Epoch: 037/050 | Batch 200/468 | Cost: 12202.4248\n",
      "Epoch: 037/050 | Batch 250/468 | Cost: 12360.2236\n",
      "Epoch: 037/050 | Batch 300/468 | Cost: 12192.8750\n",
      "Epoch: 037/050 | Batch 350/468 | Cost: 12671.4131\n",
      "Epoch: 037/050 | Batch 400/468 | Cost: 12304.3047\n",
      "Epoch: 037/050 | Batch 450/468 | Cost: 12374.3496\n",
      "Epoch: 038/050 | Batch 000/468 | Cost: 12679.8242\n",
      "Epoch: 038/050 | Batch 050/468 | Cost: 12264.7246\n",
      "Epoch: 038/050 | Batch 100/468 | Cost: 12390.6855\n",
      "Epoch: 038/050 | Batch 150/468 | Cost: 11961.8203\n",
      "Epoch: 038/050 | Batch 200/468 | Cost: 11965.1729\n",
      "Epoch: 038/050 | Batch 250/468 | Cost: 12569.0283\n",
      "Epoch: 038/050 | Batch 300/468 | Cost: 12599.7285\n",
      "Epoch: 038/050 | Batch 350/468 | Cost: 12131.3330\n",
      "Epoch: 038/050 | Batch 400/468 | Cost: 12291.0576\n",
      "Epoch: 038/050 | Batch 450/468 | Cost: 12423.8203\n",
      "Epoch: 039/050 | Batch 000/468 | Cost: 12870.7383\n",
      "Epoch: 039/050 | Batch 050/468 | Cost: 12387.1855\n",
      "Epoch: 039/050 | Batch 100/468 | Cost: 12456.6152\n",
      "Epoch: 039/050 | Batch 150/468 | Cost: 13102.7051\n",
      "Epoch: 039/050 | Batch 200/468 | Cost: 12824.8926\n",
      "Epoch: 039/050 | Batch 250/468 | Cost: 12187.3613\n",
      "Epoch: 039/050 | Batch 300/468 | Cost: 12420.8037\n",
      "Epoch: 039/050 | Batch 350/468 | Cost: 12719.4219\n",
      "Epoch: 039/050 | Batch 400/468 | Cost: 12373.8203\n",
      "Epoch: 039/050 | Batch 450/468 | Cost: 12397.8672\n",
      "Epoch: 040/050 | Batch 000/468 | Cost: 12135.1797\n",
      "Epoch: 040/050 | Batch 050/468 | Cost: 12932.9463\n",
      "Epoch: 040/050 | Batch 100/468 | Cost: 11681.3525\n",
      "Epoch: 040/050 | Batch 150/468 | Cost: 12474.4531\n",
      "Epoch: 040/050 | Batch 200/468 | Cost: 12119.4131\n",
      "Epoch: 040/050 | Batch 250/468 | Cost: 12162.8418\n",
      "Epoch: 040/050 | Batch 300/468 | Cost: 12067.0869\n",
      "Epoch: 040/050 | Batch 350/468 | Cost: 12731.0879\n",
      "Epoch: 040/050 | Batch 400/468 | Cost: 12553.4707\n",
      "Epoch: 040/050 | Batch 450/468 | Cost: 12193.6523\n",
      "Epoch: 041/050 | Batch 000/468 | Cost: 12141.7500\n",
      "Epoch: 041/050 | Batch 050/468 | Cost: 12580.7480\n",
      "Epoch: 041/050 | Batch 100/468 | Cost: 12619.0029\n",
      "Epoch: 041/050 | Batch 150/468 | Cost: 12273.5205\n",
      "Epoch: 041/050 | Batch 200/468 | Cost: 12778.7500\n",
      "Epoch: 041/050 | Batch 250/468 | Cost: 12270.2373\n",
      "Epoch: 041/050 | Batch 300/468 | Cost: 12223.3281\n",
      "Epoch: 041/050 | Batch 350/468 | Cost: 12234.1211\n",
      "Epoch: 041/050 | Batch 400/468 | Cost: 12521.8037\n",
      "Epoch: 041/050 | Batch 450/468 | Cost: 12264.9248\n",
      "Epoch: 042/050 | Batch 000/468 | Cost: 12375.2979\n",
      "Epoch: 042/050 | Batch 050/468 | Cost: 12517.1348\n",
      "Epoch: 042/050 | Batch 100/468 | Cost: 12919.3125\n",
      "Epoch: 042/050 | Batch 150/468 | Cost: 12556.4707\n",
      "Epoch: 042/050 | Batch 200/468 | Cost: 12552.7754\n",
      "Epoch: 042/050 | Batch 250/468 | Cost: 12247.1104\n",
      "Epoch: 042/050 | Batch 300/468 | Cost: 12399.0078\n",
      "Epoch: 042/050 | Batch 350/468 | Cost: 12408.8477\n",
      "Epoch: 042/050 | Batch 400/468 | Cost: 12107.7461\n",
      "Epoch: 042/050 | Batch 450/468 | Cost: 12417.0986\n",
      "Epoch: 043/050 | Batch 000/468 | Cost: 12754.0469\n",
      "Epoch: 043/050 | Batch 050/468 | Cost: 12084.0967\n",
      "Epoch: 043/050 | Batch 100/468 | Cost: 11993.5713\n",
      "Epoch: 043/050 | Batch 150/468 | Cost: 12434.7695\n",
      "Epoch: 043/050 | Batch 200/468 | Cost: 12416.0410\n",
      "Epoch: 043/050 | Batch 250/468 | Cost: 12423.6729\n",
      "Epoch: 043/050 | Batch 300/468 | Cost: 12399.9590\n",
      "Epoch: 043/050 | Batch 350/468 | Cost: 13083.9004\n",
      "Epoch: 043/050 | Batch 400/468 | Cost: 13047.0195\n",
      "Epoch: 043/050 | Batch 450/468 | Cost: 12402.9141\n",
      "Epoch: 044/050 | Batch 000/468 | Cost: 12927.3496\n",
      "Epoch: 044/050 | Batch 050/468 | Cost: 12161.3574\n",
      "Epoch: 044/050 | Batch 100/468 | Cost: 11891.2412\n",
      "Epoch: 044/050 | Batch 150/468 | Cost: 12233.4766\n",
      "Epoch: 044/050 | Batch 200/468 | Cost: 12335.9395\n",
      "Epoch: 044/050 | Batch 250/468 | Cost: 12777.3564\n",
      "Epoch: 044/050 | Batch 300/468 | Cost: 12317.7441\n",
      "Epoch: 044/050 | Batch 350/468 | Cost: 12558.8203\n",
      "Epoch: 044/050 | Batch 400/468 | Cost: 12442.0264\n",
      "Epoch: 044/050 | Batch 450/468 | Cost: 12800.7256\n",
      "Epoch: 045/050 | Batch 000/468 | Cost: 12223.9453\n",
      "Epoch: 045/050 | Batch 050/468 | Cost: 12511.4727\n",
      "Epoch: 045/050 | Batch 100/468 | Cost: 12166.1211\n",
      "Epoch: 045/050 | Batch 150/468 | Cost: 12480.3506\n",
      "Epoch: 045/050 | Batch 200/468 | Cost: 12552.7891\n",
      "Epoch: 045/050 | Batch 250/468 | Cost: 12515.9121\n",
      "Epoch: 045/050 | Batch 300/468 | Cost: 12437.3174\n",
      "Epoch: 045/050 | Batch 350/468 | Cost: 12155.0273\n",
      "Epoch: 045/050 | Batch 400/468 | Cost: 12461.2979\n",
      "Epoch: 045/050 | Batch 450/468 | Cost: 12455.5957\n",
      "Epoch: 046/050 | Batch 000/468 | Cost: 12580.4004\n",
      "Epoch: 046/050 | Batch 050/468 | Cost: 12558.4844\n",
      "Epoch: 046/050 | Batch 100/468 | Cost: 12839.2559\n",
      "Epoch: 046/050 | Batch 150/468 | Cost: 12227.8906\n",
      "Epoch: 046/050 | Batch 200/468 | Cost: 12316.7939\n",
      "Epoch: 046/050 | Batch 250/468 | Cost: 12730.4482\n",
      "Epoch: 046/050 | Batch 300/468 | Cost: 12108.4990\n",
      "Epoch: 046/050 | Batch 350/468 | Cost: 11947.1074\n",
      "Epoch: 046/050 | Batch 400/468 | Cost: 12447.9590\n",
      "Epoch: 046/050 | Batch 450/468 | Cost: 12097.4844\n",
      "Epoch: 047/050 | Batch 000/468 | Cost: 12206.0703\n",
      "Epoch: 047/050 | Batch 050/468 | Cost: 11933.8115\n",
      "Epoch: 047/050 | Batch 100/468 | Cost: 12159.5078\n",
      "Epoch: 047/050 | Batch 150/468 | Cost: 11988.6836\n",
      "Epoch: 047/050 | Batch 200/468 | Cost: 12420.6758\n",
      "Epoch: 047/050 | Batch 250/468 | Cost: 12441.8672\n",
      "Epoch: 047/050 | Batch 300/468 | Cost: 12051.6191\n",
      "Epoch: 047/050 | Batch 350/468 | Cost: 12139.4883\n",
      "Epoch: 047/050 | Batch 400/468 | Cost: 12499.8066\n",
      "Epoch: 047/050 | Batch 450/468 | Cost: 12712.0283\n",
      "Epoch: 048/050 | Batch 000/468 | Cost: 12897.2070\n",
      "Epoch: 048/050 | Batch 050/468 | Cost: 12742.2988\n",
      "Epoch: 048/050 | Batch 100/468 | Cost: 11997.5986\n",
      "Epoch: 048/050 | Batch 150/468 | Cost: 12080.5273\n",
      "Epoch: 048/050 | Batch 200/468 | Cost: 11571.7900\n",
      "Epoch: 048/050 | Batch 250/468 | Cost: 12548.9609\n",
      "Epoch: 048/050 | Batch 300/468 | Cost: 12157.6807\n",
      "Epoch: 048/050 | Batch 350/468 | Cost: 12843.7207\n",
      "Epoch: 048/050 | Batch 400/468 | Cost: 12758.1113\n",
      "Epoch: 048/050 | Batch 450/468 | Cost: 12162.2275\n",
      "Epoch: 049/050 | Batch 000/468 | Cost: 12399.3945\n",
      "Epoch: 049/050 | Batch 050/468 | Cost: 12407.1924\n",
      "Epoch: 049/050 | Batch 100/468 | Cost: 12403.5869\n",
      "Epoch: 049/050 | Batch 150/468 | Cost: 12780.4453\n",
      "Epoch: 049/050 | Batch 200/468 | Cost: 12004.9746\n",
      "Epoch: 049/050 | Batch 250/468 | Cost: 12217.5508\n",
      "Epoch: 049/050 | Batch 300/468 | Cost: 12178.0840\n",
      "Epoch: 049/050 | Batch 350/468 | Cost: 12776.8682\n",
      "Epoch: 049/050 | Batch 400/468 | Cost: 11919.4434\n",
      "Epoch: 049/050 | Batch 450/468 | Cost: 12419.5918\n",
      "Epoch: 050/050 | Batch 000/468 | Cost: 12765.1260\n",
      "Epoch: 050/050 | Batch 050/468 | Cost: 12290.1680\n",
      "Epoch: 050/050 | Batch 100/468 | Cost: 12738.8066\n",
      "Epoch: 050/050 | Batch 150/468 | Cost: 12495.5762\n",
      "Epoch: 050/050 | Batch 200/468 | Cost: 12569.0986\n",
      "Epoch: 050/050 | Batch 250/468 | Cost: 12465.0977\n",
      "Epoch: 050/050 | Batch 300/468 | Cost: 12381.8623\n",
      "Epoch: 050/050 | Batch 350/468 | Cost: 12013.9551\n",
      "Epoch: 050/050 | Batch 400/468 | Cost: 12307.1621\n",
      "Epoch: 050/050 | Batch 450/468 | Cost: 12168.1201\n"
     ]
    }
   ],
   "source": [
    "for epoch in range(num_epochs):\n",
    "    for batch_idx, (features, targets) in enumerate(train_loader):\n",
    "        \n",
    "        features = features.view(-1, 28*28).to(device)\n",
    "        targets = targets.to(device)\n",
    "\n",
    "        ### FORWARD AND BACK PROP\n",
    "        z_mean, z_log_var, encoded, decoded = model(features, targets)\n",
    "\n",
    "        # cost = reconstruction loss + Kullback-Leibler divergence\n",
    "        kl_divergence = (0.5 * (z_mean**2 + \n",
    "                                torch.exp(z_log_var) - z_log_var - 1)).sum()\n",
    "        \n",
    "        # add condition\n",
    "        x_con = torch.cat((features, to_onehot(targets, num_classes, device)), dim=1)\n",
    "        \n",
    "        pixelwise_bce = F.binary_cross_entropy(decoded, x_con, reduction='sum')\n",
    "        cost = kl_divergence + pixelwise_bce\n",
    "        \n",
    "        optimizer.zero_grad()\n",
    "        cost.backward()\n",
    "        \n",
    "        ### UPDATE MODEL PARAMETERS\n",
    "        optimizer.step()\n",
    "        \n",
    "        ### LOGGING\n",
    "        if not batch_idx % 50:\n",
    "            print ('Epoch: %03d/%03d | Batch %03d/%03d | Cost: %.4f' \n",
    "                   %(epoch+1, num_epochs, batch_idx, \n",
    "                     len(train_dataset)//batch_size, cost))"
   ]
  },
  {
   "cell_type": "markdown",
   "metadata": {},
   "source": [
    "# Evaluation"
   ]
  },
  {
   "cell_type": "markdown",
   "metadata": {},
   "source": [
    "### Reconstruction"
   ]
  },
  {
   "cell_type": "code",
   "execution_count": 6,
   "metadata": {},
   "outputs": [
    {
     "data": {
      "image/png": "[encoded data removed]",
      "text/plain": [
       "<Figure size 1440x180 with 30 Axes>"
      ]
     },
     "metadata": {
      "needs_background": "light"
     },
     "output_type": "display_data"
    }
   ],
   "source": [
    "%matplotlib inline\n",
    "import matplotlib.pyplot as plt\n",
    "\n",
    "##########################\n",
    "### VISUALIZATION\n",
    "##########################\n",
    "\n",
    "n_images = 15\n",
    "image_width = 28\n",
    "\n",
    "fig, axes = plt.subplots(nrows=2, ncols=n_images, \n",
    "                         sharex=True, sharey=True, figsize=(20, 2.5))\n",
    "orig_images = features[:n_images]\n",
    "decoded_images = decoded[:n_images][:, :-num_classes]\n",
    "\n",
    "for i in range(n_images):\n",
    "    for ax, img in zip(axes, [orig_images, decoded_images]):\n",
    "        ax[i].imshow(img[i].detach().reshape((image_width, image_width)), cmap='binary')"
   ]
  },
  {
   "cell_type": "markdown",
   "metadata": {},
   "source": [
    "### New random-conditional images"
   ]
  },
  {
   "cell_type": "code",
   "execution_count": 7,
   "metadata": {},
   "outputs": [
    {
     "name": "stdout",
     "output_type": "stream",
     "text": [
      "Class Label 0\n"
     ]
    },
    {
     "data": {
      "image/png": "[encoded data removed]",
      "text/plain": [
       "<Figure size 720x180 with 10 Axes>"
      ]
     },
     "metadata": {
      "needs_background": "light"
     },
     "output_type": "display_data"
    },
    {
     "name": "stdout",
     "output_type": "stream",
     "text": [
      "Class Label 1\n"
     ]
    },
    {
     "data": {
      "image/png": "[encoded data removed]",
      "text/plain": [
       "<Figure size 720x180 with 10 Axes>"
      ]
     },
     "metadata": {
      "needs_background": "light"
     },
     "output_type": "display_data"
    },
    {
     "name": "stdout",
     "output_type": "stream",
     "text": [
      "Class Label 2\n"
     ]
    },
    {
     "data": {
      "image/png": "[encoded data removed]",
      "text/plain": [
       "<Figure size 720x180 with 10 Axes>"
      ]
     },
     "metadata": {
      "needs_background": "light"
     },
     "output_type": "display_data"
    },
    {
     "name": "stdout",
     "output_type": "stream",
     "text": [
      "Class Label 3\n"
     ]
    },
    {
     "data": {
      "image/png": "[encoded data removed]",
      "text/plain": [
       "<Figure size 720x180 with 10 Axes>"
      ]
     },
     "metadata": {
      "needs_background": "light"
     },
     "output_type": "display_data"
    },
    {
     "name": "stdout",
     "output_type": "stream",
     "text": [
      "Class Label 4\n"
     ]
    },
    {
     "data": {
      "image/png": "[encoded data removed]",
      "text/plain": [
       "<Figure size 720x180 with 10 Axes>"
      ]
     },
     "metadata": {
      "needs_background": "light"
     },
     "output_type": "display_data"
    },
    {
     "name": "stdout",
     "output_type": "stream",
     "text": [
      "Class Label 5\n"
     ]
    },
    {
     "data": {
      "image/png": "[encoded data removed]",
      "text/plain": [
       "<Figure size 720x180 with 10 Axes>"
      ]
     },
     "metadata": {
      "needs_background": "light"
     },
     "output_type": "display_data"
    },
    {
     "name": "stdout",
     "output_type": "stream",
     "text": [
      "Class Label 6\n"
     ]
    },
    {
     "data": {
      "image/png": "[encoded data removed]",
      "text/plain": [
       "<Figure size 720x180 with 10 Axes>"
      ]
     },
     "metadata": {
      "needs_background": "light"
     },
     "output_type": "display_data"
    },
    {
     "name": "stdout",
     "output_type": "stream",
     "text": [
      "Class Label 7\n"
     ]
    },
    {
     "data": {
      "image/png": "[encoded data removed]",
      "text/plain": [
       "<Figure size 720x180 with 10 Axes>"
      ]
     },
     "metadata": {
      "needs_background": "light"
     },
     "output_type": "display_data"
    },
    {
     "name": "stdout",
     "output_type": "stream",
     "text": [
      "Class Label 8\n"
     ]
    },
    {
     "data": {
      "image/png": "[encoded data removed]",
      "text/plain": [
       "<Figure size 720x180 with 10 Axes>"
      ]
     },
     "metadata": {
      "needs_background": "light"
     },
     "output_type": "display_data"
    },
    {
     "name": "stdout",
     "output_type": "stream",
     "text": [
      "Class Label 9\n"
     ]
    },
    {
     "data": {
      "image/png": "[encoded data removed]",
      "text/plain": [
       "<Figure size 720x180 with 10 Axes>"
      ]
     },
     "metadata": {
      "needs_background": "light"
     },
     "output_type": "display_data"
    }
   ],
   "source": [
    "for i in range(10):\n",
    "\n",
    "    ##########################\n",
    "    ### RANDOM SAMPLE\n",
    "    ##########################    \n",
    "    \n",
    "    labels = torch.tensor([i]*10).to(device)\n",
    "    n_images = labels.size()[0]\n",
    "    rand_features = torch.randn(n_images, num_latent).to(device)\n",
    "    new_images = model.decoder(rand_features, labels)\n",
    "\n",
    "    ##########################\n",
    "    ### VISUALIZATION\n",
    "    ##########################\n",
    "\n",
    "    image_width = 28\n",
    "\n",
    "    fig, axes = plt.subplots(nrows=1, ncols=n_images, figsize=(10, 2.5), sharey=True)\n",
    "    decoded_images = new_images[:n_images][:, :-num_classes]\n",
    "\n",
    "    print('Class Label %d' % i)\n",
    "\n",
    "    for ax, img in zip(axes, decoded_images):\n",
    "        ax.imshow(img.detach().reshape((image_width, image_width)), cmap='binary')\n",
    "        \n",
    "    plt.show()"
   ]
  }
 ],
 "metadata": {
  "kernelspec": {
   "display_name": "Python 3",
   "language": "python",
   "name": "python3"
  },
  "language_info": {
   "codemirror_mode": {
    "name": "ipython",
    "version": 3
   },
   "file_extension": ".py",
   "mimetype": "text/x-python",
   "name": "python",
   "nbconvert_exporter": "python",
   "pygments_lexer": "ipython3",
   "version": "3.6.7"
  },
  "toc": {
   "nav_menu": {},
   "number_sections": true,
   "sideBar": true,
   "skip_h1_title": false,
   "title_cell": "Table of Contents",
   "title_sidebar": "Contents",
   "toc_cell": false,
   "toc_position": {},
   "toc_section_display": true,
   "toc_window_display": false
  }
 },
 "nbformat": 4,
 "nbformat_minor": 2
}
