{
 "cells": [
  {
   "cell_type": "markdown",
   "metadata": {},
   "source": [
    "*Accompanying code examples of the book \"Introduction to Artificial Neural Networks and Deep Learning: A Practical Guide with Applications in Python\" by [Sebastian Raschka](https://sebastianraschka.com). All code examples are released under the [MIT license](https://github.com/rasbt/deep-learning-book/blob/master/LICENSE). If you find this content useful, please consider supporting the work by buying a [copy of the book](https://leanpub.com/ann-and-deeplearning).*\n",
    "  \n",
    "Other code examples and content are available on [GitHub](https://github.com/rasbt/deep-learning-book). The PDF and ebook versions of the book are available through [Leanpub](https://leanpub.com/ann-and-deeplearning)."
   ]
  },
  {
   "cell_type": "code",
   "execution_count": 1,
   "metadata": {},
   "outputs": [
    {
     "name": "stdout",
     "output_type": "stream",
     "text": [
      "Sebastian Raschka \n",
      "\n",
      "CPython 3.6.7\n",
      "IPython 7.2.0\n",
      "\n",
      "torch 0.4.1\n"
     ]
    }
   ],
   "source": [
    "%load_ext watermark\n",
    "%watermark -a 'Sebastian Raschka' -v -p torch"
   ]
  },
  {
   "cell_type": "markdown",
   "metadata": {},
   "source": [
    "- Runs on CPU or GPU (if available)"
   ]
  },
  {
   "cell_type": "markdown",
   "metadata": {},
   "source": [
    "# Model Zoo -- Conditional Variational Autoencoder \n",
    "\n",
    "## (without labels in reconstruction loss)"
   ]
  },
  {
   "cell_type": "markdown",
   "metadata": {},
   "source": [
    "A simple conditional variational autoencoder that compresses 768-pixel MNIST images down to a 35-pixel latent vector representation.\n",
    "\n",
    "\n",
    "This implementation DOES NOT concatenate the inputs with the class labels when computing the reconstruction loss in contrast to how it is commonly done in non-convolutional conditional variational autoencoders. Not considering class-labels in the reconstruction loss leads to slightly worse results compared to the implementation that does concatenate the labels with the inputs to compute the reconstruction loss. For reference, see the implementation [./autoencoder-cvae.ipynb](./autoencoder-cvae.ipynb)"
   ]
  },
  {
   "cell_type": "markdown",
   "metadata": {},
   "source": [
    "## Imports"
   ]
  },
  {
   "cell_type": "code",
   "execution_count": 2,
   "metadata": {},
   "outputs": [],
   "source": [
    "import numpy as np\n",
    "import torch\n",
    "import torch.nn.functional as F\n",
    "from torch.utils.data import DataLoader\n",
    "from torchvision import datasets\n",
    "from torchvision import transforms"
   ]
  },
  {
   "cell_type": "code",
   "execution_count": 3,
   "metadata": {},
   "outputs": [
    {
     "name": "stdout",
     "output_type": "stream",
     "text": [
      "Device: cuda:1\n",
      "Image batch dimensions: torch.Size([128, 1, 28, 28])\n",
      "Image label dimensions: torch.Size([128])\n"
     ]
    }
   ],
   "source": [
    "##########################\n",
    "### SETTINGS\n",
    "##########################\n",
    "\n",
    "# Device\n",
    "device = torch.device(\"cuda:1\" if torch.cuda.is_available() else \"cpu\")\n",
    "print('Device:', device)\n",
    "\n",
    "# Hyperparameters\n",
    "random_seed = 0\n",
    "learning_rate = 0.001\n",
    "num_epochs = 50\n",
    "batch_size = 128\n",
    "\n",
    "# Architecture\n",
    "num_classes = 10\n",
    "num_features = 784\n",
    "num_hidden_1 = 500\n",
    "num_latent = 35\n",
    "\n",
    "\n",
    "##########################\n",
    "### MNIST DATASET\n",
    "##########################\n",
    "\n",
    "# Note transforms.ToTensor() scales input images\n",
    "# to 0-1 range\n",
    "train_dataset = datasets.MNIST(root='data', \n",
    "                               train=True, \n",
    "                               transform=transforms.ToTensor(),\n",
    "                               download=True)\n",
    "\n",
    "test_dataset = datasets.MNIST(root='data', \n",
    "                              train=False, \n",
    "                              transform=transforms.ToTensor())\n",
    "\n",
    "\n",
    "train_loader = DataLoader(dataset=train_dataset, \n",
    "                          batch_size=batch_size, \n",
    "                          shuffle=True)\n",
    "\n",
    "test_loader = DataLoader(dataset=test_dataset, \n",
    "                         batch_size=batch_size, \n",
    "                         shuffle=False)\n",
    "\n",
    "# Checking the dataset\n",
    "for images, labels in train_loader:  \n",
    "    print('Image batch dimensions:', images.shape)\n",
    "    print('Image label dimensions:', labels.shape)\n",
    "    break"
   ]
  },
  {
   "cell_type": "markdown",
   "metadata": {},
   "source": [
    "## Model"
   ]
  },
  {
   "cell_type": "code",
   "execution_count": 4,
   "metadata": {},
   "outputs": [],
   "source": [
    "##########################\n",
    "### MODEL\n",
    "##########################\n",
    "\n",
    "\n",
    "def to_onehot(labels, num_classes, device):\n",
    "\n",
    "    labels_onehot = torch.zeros(labels.size()[0], num_classes).to(device)\n",
    "    labels_onehot.scatter_(1, labels.view(-1, 1), 1)\n",
    "\n",
    "    return labels_onehot\n",
    "\n",
    "\n",
    "class ConditionalVariationalAutoencoder(torch.nn.Module):\n",
    "\n",
    "    def __init__(self, num_features, num_hidden_1, num_latent, num_classes):\n",
    "        super(ConditionalVariationalAutoencoder, self).__init__()\n",
    "        \n",
    "        self.num_classes = num_classes\n",
    "        \n",
    "        ### ENCODER\n",
    "        self.hidden_1 = torch.nn.Linear(num_features+num_classes, num_hidden_1)\n",
    "        self.z_mean = torch.nn.Linear(num_hidden_1, num_latent)\n",
    "        # in the original paper (Kingma & Welling 2015, we use\n",
    "        # have a z_mean and z_var, but the problem is that\n",
    "        # the z_var can be negative, which would cause issues\n",
    "        # in the log later. Hence we assume that latent vector\n",
    "        # has a z_mean and z_log_var component, and when we need\n",
    "        # the regular variance or std_dev, we simply use \n",
    "        # an exponential function\n",
    "        self.z_log_var = torch.nn.Linear(num_hidden_1, num_latent)\n",
    "        \n",
    "        \n",
    "        ### DECODER\n",
    "        self.linear_3 = torch.nn.Linear(num_latent+num_classes, num_hidden_1)\n",
    "        # don't output labels in resulting image as it yields worse results\n",
    "        #self.linear_4 = torch.nn.Linear(num_hidden_1, num_features+num_classes)\n",
    "        self.linear_4 = torch.nn.Linear(num_hidden_1, num_features)\n",
    "\n",
    "    def reparameterize(self, z_mu, z_log_var):\n",
    "        # Sample epsilon from standard normal distribution\n",
    "        eps = torch.randn(z_mu.size(0), z_mu.size(1)).to(device)\n",
    "        # note that log(x^2) = 2*log(x); hence divide by 2 to get std_dev\n",
    "        # i.e., std_dev = exp(log(std_dev^2)/2) = exp(log(var)/2)\n",
    "        z = z_mu + eps * torch.exp(z_log_var/2.) \n",
    "        return z\n",
    "        \n",
    "    def encoder(self, features, targets):\n",
    "        ### Add condition\n",
    "        onehot_targets = to_onehot(targets, self.num_classes, device)\n",
    "        x = torch.cat((features, onehot_targets), dim=1)\n",
    "\n",
    "        ### ENCODER\n",
    "        x = self.hidden_1(x)\n",
    "        x = F.leaky_relu(x)\n",
    "        z_mean = self.z_mean(x)\n",
    "        z_log_var = self.z_log_var(x)\n",
    "        encoded = self.reparameterize(z_mean, z_log_var)\n",
    "        return z_mean, z_log_var, encoded\n",
    "    \n",
    "    def decoder(self, encoded, targets):\n",
    "        ### Add condition\n",
    "        onehot_targets = to_onehot(targets, self.num_classes, device)\n",
    "        encoded = torch.cat((encoded, onehot_targets), dim=1)        \n",
    "        \n",
    "        ### DECODER\n",
    "        x = self.linear_3(encoded)\n",
    "        x = F.leaky_relu(x)\n",
    "        x = self.linear_4(x)\n",
    "        decoded = torch.sigmoid(x)\n",
    "        return decoded\n",
    "\n",
    "    def forward(self, features, targets):\n",
    "        \n",
    "        z_mean, z_log_var, encoded = self.encoder(features, targets)\n",
    "        decoded = self.decoder(encoded, targets)\n",
    "        \n",
    "        return z_mean, z_log_var, encoded, decoded\n",
    "\n",
    "    \n",
    "torch.manual_seed(random_seed)\n",
    "model = ConditionalVariationalAutoencoder(num_features,\n",
    "                                          num_hidden_1,\n",
    "                                          num_latent,\n",
    "                                          num_classes)\n",
    "model = model.to(device)\n",
    "    \n",
    "\n",
    "##########################\n",
    "### COST AND OPTIMIZER\n",
    "##########################\n",
    "\n",
    "optimizer = torch.optim.Adam(model.parameters(), lr=learning_rate)  "
   ]
  },
  {
   "cell_type": "markdown",
   "metadata": {},
   "source": [
    "## Training"
   ]
  },
  {
   "cell_type": "code",
   "execution_count": 5,
   "metadata": {},
   "outputs": [
    {
     "name": "stdout",
     "output_type": "stream",
     "text": [
      "Epoch: 001/050 | Batch 000/468 | Cost: 70192.2188\n",
      "Epoch: 001/050 | Batch 050/468 | Cost: 25749.1211\n",
      "Epoch: 001/050 | Batch 100/468 | Cost: 21997.0703\n",
      "Epoch: 001/050 | Batch 150/468 | Cost: 19867.7832\n",
      "Epoch: 001/050 | Batch 200/468 | Cost: 19859.0391\n",
      "Epoch: 001/050 | Batch 250/468 | Cost: 18637.0840\n",
      "Epoch: 001/050 | Batch 300/468 | Cost: 17863.2969\n",
      "Epoch: 001/050 | Batch 350/468 | Cost: 16945.5000\n",
      "Epoch: 001/050 | Batch 400/468 | Cost: 16607.8848\n",
      "Epoch: 001/050 | Batch 450/468 | Cost: 16565.9492\n",
      "Epoch: 002/050 | Batch 000/468 | Cost: 15998.4873\n",
      "Epoch: 002/050 | Batch 050/468 | Cost: 15981.5938\n",
      "Epoch: 002/050 | Batch 100/468 | Cost: 15844.7812\n",
      "Epoch: 002/050 | Batch 150/468 | Cost: 15799.4307\n",
      "Epoch: 002/050 | Batch 200/468 | Cost: 15461.0439\n",
      "Epoch: 002/050 | Batch 250/468 | Cost: 15046.5254\n",
      "Epoch: 002/050 | Batch 300/468 | Cost: 14806.0869\n",
      "Epoch: 002/050 | Batch 350/468 | Cost: 15055.4150\n",
      "Epoch: 002/050 | Batch 400/468 | Cost: 14689.0342\n",
      "Epoch: 002/050 | Batch 450/468 | Cost: 14616.9902\n",
      "Epoch: 003/050 | Batch 000/468 | Cost: 14663.9922\n",
      "Epoch: 003/050 | Batch 050/468 | Cost: 14358.1953\n",
      "Epoch: 003/050 | Batch 100/468 | Cost: 14580.9180\n",
      "Epoch: 003/050 | Batch 150/468 | Cost: 14757.6074\n",
      "Epoch: 003/050 | Batch 200/468 | Cost: 14688.1582\n",
      "Epoch: 003/050 | Batch 250/468 | Cost: 14494.4980\n",
      "Epoch: 003/050 | Batch 300/468 | Cost: 14081.9736\n",
      "Epoch: 003/050 | Batch 350/468 | Cost: 14350.2188\n",
      "Epoch: 003/050 | Batch 400/468 | Cost: 13365.4219\n",
      "Epoch: 003/050 | Batch 450/468 | Cost: 14705.7207\n",
      "Epoch: 004/050 | Batch 000/468 | Cost: 13582.1953\n",
      "Epoch: 004/050 | Batch 050/468 | Cost: 14012.8027\n",
      "Epoch: 004/050 | Batch 100/468 | Cost: 13710.9238\n",
      "Epoch: 004/050 | Batch 150/468 | Cost: 13733.3301\n",
      "Epoch: 004/050 | Batch 200/468 | Cost: 13923.9414\n",
      "Epoch: 004/050 | Batch 250/468 | Cost: 14054.2715\n",
      "Epoch: 004/050 | Batch 300/468 | Cost: 13938.6133\n",
      "Epoch: 004/050 | Batch 350/468 | Cost: 13706.7695\n",
      "Epoch: 004/050 | Batch 400/468 | Cost: 13711.2715\n",
      "Epoch: 004/050 | Batch 450/468 | Cost: 13155.5879\n",
      "Epoch: 005/050 | Batch 000/468 | Cost: 13489.5938\n",
      "Epoch: 005/050 | Batch 050/468 | Cost: 13672.0635\n",
      "Epoch: 005/050 | Batch 100/468 | Cost: 13483.0889\n",
      "Epoch: 005/050 | Batch 150/468 | Cost: 13744.4404\n",
      "Epoch: 005/050 | Batch 200/468 | Cost: 13432.2988\n",
      "Epoch: 005/050 | Batch 250/468 | Cost: 13245.2617\n",
      "Epoch: 005/050 | Batch 300/468 | Cost: 12698.8359\n",
      "Epoch: 005/050 | Batch 350/468 | Cost: 13019.3906\n",
      "Epoch: 005/050 | Batch 400/468 | Cost: 13820.6006\n",
      "Epoch: 005/050 | Batch 450/468 | Cost: 14105.3379\n",
      "Epoch: 006/050 | Batch 000/468 | Cost: 13309.4629\n",
      "Epoch: 006/050 | Batch 050/468 | Cost: 13070.1279\n",
      "Epoch: 006/050 | Batch 100/468 | Cost: 13905.7793\n",
      "Epoch: 006/050 | Batch 150/468 | Cost: 13180.1582\n",
      "Epoch: 006/050 | Batch 200/468 | Cost: 13514.6816\n",
      "Epoch: 006/050 | Batch 250/468 | Cost: 13523.6641\n",
      "Epoch: 006/050 | Batch 300/468 | Cost: 13248.6826\n",
      "Epoch: 006/050 | Batch 350/468 | Cost: 13451.4404\n",
      "Epoch: 006/050 | Batch 400/468 | Cost: 13439.4668\n",
      "Epoch: 006/050 | Batch 450/468 | Cost: 13521.7246\n",
      "Epoch: 007/050 | Batch 000/468 | Cost: 13898.6455\n",
      "Epoch: 007/050 | Batch 050/468 | Cost: 13446.9590\n",
      "Epoch: 007/050 | Batch 100/468 | Cost: 13161.8877\n",
      "Epoch: 007/050 | Batch 150/468 | Cost: 13318.8672\n",
      "Epoch: 007/050 | Batch 200/468 | Cost: 12999.0420\n",
      "Epoch: 007/050 | Batch 250/468 | Cost: 13676.5527\n",
      "Epoch: 007/050 | Batch 300/468 | Cost: 13159.3027\n",
      "Epoch: 007/050 | Batch 350/468 | Cost: 13323.2793\n",
      "Epoch: 007/050 | Batch 400/468 | Cost: 13325.7822\n",
      "Epoch: 007/050 | Batch 450/468 | Cost: 13490.8379\n",
      "Epoch: 008/050 | Batch 000/468 | Cost: 13335.2422\n",
      "Epoch: 008/050 | Batch 050/468 | Cost: 12952.2959\n",
      "Epoch: 008/050 | Batch 100/468 | Cost: 13572.0771\n",
      "Epoch: 008/050 | Batch 150/468 | Cost: 12766.4609\n",
      "Epoch: 008/050 | Batch 200/468 | Cost: 13009.3828\n",
      "Epoch: 008/050 | Batch 250/468 | Cost: 13302.9648\n",
      "Epoch: 008/050 | Batch 300/468 | Cost: 13393.2227\n",
      "Epoch: 008/050 | Batch 350/468 | Cost: 13029.7285\n",
      "Epoch: 008/050 | Batch 400/468 | Cost: 13217.3721\n",
      "Epoch: 008/050 | Batch 450/468 | Cost: 12602.6816\n",
      "Epoch: 009/050 | Batch 000/468 | Cost: 13436.5801\n",
      "Epoch: 009/050 | Batch 050/468 | Cost: 13418.6211\n",
      "Epoch: 009/050 | Batch 100/468 | Cost: 12878.1660\n",
      "Epoch: 009/050 | Batch 150/468 | Cost: 13078.7725\n",
      "Epoch: 009/050 | Batch 200/468 | Cost: 12945.7686\n",
      "Epoch: 009/050 | Batch 250/468 | Cost: 13237.7402\n",
      "Epoch: 009/050 | Batch 300/468 | Cost: 12957.9121\n",
      "Epoch: 009/050 | Batch 350/468 | Cost: 12670.6904\n",
      "Epoch: 009/050 | Batch 400/468 | Cost: 13266.4980\n",
      "Epoch: 009/050 | Batch 450/468 | Cost: 12657.8604\n",
      "Epoch: 010/050 | Batch 000/468 | Cost: 13140.5283\n",
      "Epoch: 010/050 | Batch 050/468 | Cost: 12660.1406\n",
      "Epoch: 010/050 | Batch 100/468 | Cost: 13050.0576\n",
      "Epoch: 010/050 | Batch 150/468 | Cost: 12465.1602\n",
      "Epoch: 010/050 | Batch 200/468 | Cost: 12735.0967\n",
      "Epoch: 010/050 | Batch 250/468 | Cost: 13163.3760\n",
      "Epoch: 010/050 | Batch 300/468 | Cost: 12963.2471\n",
      "Epoch: 010/050 | Batch 350/468 | Cost: 12507.7266\n",
      "Epoch: 010/050 | Batch 400/468 | Cost: 13051.4922\n",
      "Epoch: 010/050 | Batch 450/468 | Cost: 13297.8018\n",
      "Epoch: 011/050 | Batch 000/468 | Cost: 13241.1074\n",
      "Epoch: 011/050 | Batch 050/468 | Cost: 13080.9297\n",
      "Epoch: 011/050 | Batch 100/468 | Cost: 12680.6250\n",
      "Epoch: 011/050 | Batch 150/468 | Cost: 13356.2969\n",
      "Epoch: 011/050 | Batch 200/468 | Cost: 12481.3613\n",
      "Epoch: 011/050 | Batch 250/468 | Cost: 13308.9424\n",
      "Epoch: 011/050 | Batch 300/468 | Cost: 13152.1768\n",
      "Epoch: 011/050 | Batch 350/468 | Cost: 13040.8750\n",
      "Epoch: 011/050 | Batch 400/468 | Cost: 12385.9023\n",
      "Epoch: 011/050 | Batch 450/468 | Cost: 12542.2803\n",
      "Epoch: 012/050 | Batch 000/468 | Cost: 12794.1426\n",
      "Epoch: 012/050 | Batch 050/468 | Cost: 13091.6758\n",
      "Epoch: 012/050 | Batch 100/468 | Cost: 12263.2529\n",
      "Epoch: 012/050 | Batch 150/468 | Cost: 13304.9102\n",
      "Epoch: 012/050 | Batch 200/468 | Cost: 13285.3223\n",
      "Epoch: 012/050 | Batch 250/468 | Cost: 12430.1260\n",
      "Epoch: 012/050 | Batch 300/468 | Cost: 12498.0752\n",
      "Epoch: 012/050 | Batch 350/468 | Cost: 13339.6836\n",
      "Epoch: 012/050 | Batch 400/468 | Cost: 13249.3770\n",
      "Epoch: 012/050 | Batch 450/468 | Cost: 13069.3398\n",
      "Epoch: 013/050 | Batch 000/468 | Cost: 12983.4434\n",
      "Epoch: 013/050 | Batch 050/468 | Cost: 12736.4395\n",
      "Epoch: 013/050 | Batch 100/468 | Cost: 12905.1162\n",
      "Epoch: 013/050 | Batch 150/468 | Cost: 13063.7158\n",
      "Epoch: 013/050 | Batch 200/468 | Cost: 12451.4219\n",
      "Epoch: 013/050 | Batch 250/468 | Cost: 12427.7744\n",
      "Epoch: 013/050 | Batch 300/468 | Cost: 12781.7266\n",
      "Epoch: 013/050 | Batch 350/468 | Cost: 12423.8438\n",
      "Epoch: 013/050 | Batch 400/468 | Cost: 12623.2695\n",
      "Epoch: 013/050 | Batch 450/468 | Cost: 12684.1719\n",
      "Epoch: 014/050 | Batch 000/468 | Cost: 12942.0518\n",
      "Epoch: 014/050 | Batch 050/468 | Cost: 12424.6504\n",
      "Epoch: 014/050 | Batch 100/468 | Cost: 13365.7451\n",
      "Epoch: 014/050 | Batch 150/468 | Cost: 13067.4941\n",
      "Epoch: 014/050 | Batch 200/468 | Cost: 12689.0010\n",
      "Epoch: 014/050 | Batch 250/468 | Cost: 12886.7852\n",
      "Epoch: 014/050 | Batch 300/468 | Cost: 12568.9121\n",
      "Epoch: 014/050 | Batch 350/468 | Cost: 12777.0029\n",
      "Epoch: 014/050 | Batch 400/468 | Cost: 12930.1875\n",
      "Epoch: 014/050 | Batch 450/468 | Cost: 13046.2861\n",
      "Epoch: 015/050 | Batch 000/468 | Cost: 12683.1787\n",
      "Epoch: 015/050 | Batch 050/468 | Cost: 13172.0371\n",
      "Epoch: 015/050 | Batch 100/468 | Cost: 12504.2627\n",
      "Epoch: 015/050 | Batch 150/468 | Cost: 12759.5146\n",
      "Epoch: 015/050 | Batch 200/468 | Cost: 12690.0771\n",
      "Epoch: 015/050 | Batch 250/468 | Cost: 12551.6875\n",
      "Epoch: 015/050 | Batch 300/468 | Cost: 12515.9824\n",
      "Epoch: 015/050 | Batch 350/468 | Cost: 12726.2070\n",
      "Epoch: 015/050 | Batch 400/468 | Cost: 12768.8926\n",
      "Epoch: 015/050 | Batch 450/468 | Cost: 12507.0967\n",
      "Epoch: 016/050 | Batch 000/468 | Cost: 12300.3887\n",
      "Epoch: 016/050 | Batch 050/468 | Cost: 12886.2969\n",
      "Epoch: 016/050 | Batch 100/468 | Cost: 12804.6719\n",
      "Epoch: 016/050 | Batch 150/468 | Cost: 13121.9014\n",
      "Epoch: 016/050 | Batch 200/468 | Cost: 12802.4561\n",
      "Epoch: 016/050 | Batch 250/468 | Cost: 12606.1543\n",
      "Epoch: 016/050 | Batch 300/468 | Cost: 13369.4238\n",
      "Epoch: 016/050 | Batch 350/468 | Cost: 12735.8828\n",
      "Epoch: 016/050 | Batch 400/468 | Cost: 12682.6406\n",
      "Epoch: 016/050 | Batch 450/468 | Cost: 12682.5938\n",
      "Epoch: 017/050 | Batch 000/468 | Cost: 13228.0117\n",
      "Epoch: 017/050 | Batch 050/468 | Cost: 13029.7002\n",
      "Epoch: 017/050 | Batch 100/468 | Cost: 12880.0674\n",
      "Epoch: 017/050 | Batch 150/468 | Cost: 12778.8750\n",
      "Epoch: 017/050 | Batch 200/468 | Cost: 12697.8555\n",
      "Epoch: 017/050 | Batch 250/468 | Cost: 13056.8496\n",
      "Epoch: 017/050 | Batch 300/468 | Cost: 12211.2441\n",
      "Epoch: 017/050 | Batch 350/468 | Cost: 12881.4766\n",
      "Epoch: 017/050 | Batch 400/468 | Cost: 12982.6582\n",
      "Epoch: 017/050 | Batch 450/468 | Cost: 12535.6680\n",
      "Epoch: 018/050 | Batch 000/468 | Cost: 12412.1865\n",
      "Epoch: 018/050 | Batch 050/468 | Cost: 12649.6602\n",
      "Epoch: 018/050 | Batch 100/468 | Cost: 12518.8193\n",
      "Epoch: 018/050 | Batch 150/468 | Cost: 13444.8525\n",
      "Epoch: 018/050 | Batch 200/468 | Cost: 12885.4277\n",
      "Epoch: 018/050 | Batch 250/468 | Cost: 12647.3799\n",
      "Epoch: 018/050 | Batch 300/468 | Cost: 12623.3545\n",
      "Epoch: 018/050 | Batch 350/468 | Cost: 13210.9219\n",
      "Epoch: 018/050 | Batch 400/468 | Cost: 12950.6641\n",
      "Epoch: 018/050 | Batch 450/468 | Cost: 12983.8828\n",
      "Epoch: 019/050 | Batch 000/468 | Cost: 12334.5645\n",
      "Epoch: 019/050 | Batch 050/468 | Cost: 12649.4355\n",
      "Epoch: 019/050 | Batch 100/468 | Cost: 12863.1123\n",
      "Epoch: 019/050 | Batch 150/468 | Cost: 12784.8809\n",
      "Epoch: 019/050 | Batch 200/468 | Cost: 12522.4785\n",
      "Epoch: 019/050 | Batch 250/468 | Cost: 12616.1113\n",
      "Epoch: 019/050 | Batch 300/468 | Cost: 12871.5791\n",
      "Epoch: 019/050 | Batch 350/468 | Cost: 12771.6016\n",
      "Epoch: 019/050 | Batch 400/468 | Cost: 12530.9678\n",
      "Epoch: 019/050 | Batch 450/468 | Cost: 12648.2998\n",
      "Epoch: 020/050 | Batch 000/468 | Cost: 13125.3477\n",
      "Epoch: 020/050 | Batch 050/468 | Cost: 13272.1758\n",
      "Epoch: 020/050 | Batch 100/468 | Cost: 12205.6367\n",
      "Epoch: 020/050 | Batch 150/468 | Cost: 13001.3574\n",
      "Epoch: 020/050 | Batch 200/468 | Cost: 12675.7295\n",
      "Epoch: 020/050 | Batch 250/468 | Cost: 12830.1543\n",
      "Epoch: 020/050 | Batch 300/468 | Cost: 12559.2188\n",
      "Epoch: 020/050 | Batch 350/468 | Cost: 13006.5020\n",
      "Epoch: 020/050 | Batch 400/468 | Cost: 12663.2598\n",
      "Epoch: 020/050 | Batch 450/468 | Cost: 12564.0371\n",
      "Epoch: 021/050 | Batch 000/468 | Cost: 12315.7432\n",
      "Epoch: 021/050 | Batch 050/468 | Cost: 12232.1953\n",
      "Epoch: 021/050 | Batch 100/468 | Cost: 13282.6191\n",
      "Epoch: 021/050 | Batch 150/468 | Cost: 12979.0059\n",
      "Epoch: 021/050 | Batch 200/468 | Cost: 13201.8994\n",
      "Epoch: 021/050 | Batch 250/468 | Cost: 12172.8711\n",
      "Epoch: 021/050 | Batch 300/468 | Cost: 11894.9932\n",
      "Epoch: 021/050 | Batch 350/468 | Cost: 12688.3086\n",
      "Epoch: 021/050 | Batch 400/468 | Cost: 12939.6318\n",
      "Epoch: 021/050 | Batch 450/468 | Cost: 12350.3584\n",
      "Epoch: 022/050 | Batch 000/468 | Cost: 12491.0498\n",
      "Epoch: 022/050 | Batch 050/468 | Cost: 13033.8340\n",
      "Epoch: 022/050 | Batch 100/468 | Cost: 12912.6367\n",
      "Epoch: 022/050 | Batch 150/468 | Cost: 12645.4766\n",
      "Epoch: 022/050 | Batch 200/468 | Cost: 13070.8398\n",
      "Epoch: 022/050 | Batch 250/468 | Cost: 12489.6621\n",
      "Epoch: 022/050 | Batch 300/468 | Cost: 13075.5859\n",
      "Epoch: 022/050 | Batch 350/468 | Cost: 13330.9561\n",
      "Epoch: 022/050 | Batch 400/468 | Cost: 12452.7461\n",
      "Epoch: 022/050 | Batch 450/468 | Cost: 12875.1475\n",
      "Epoch: 023/050 | Batch 000/468 | Cost: 12908.8496\n",
      "Epoch: 023/050 | Batch 050/468 | Cost: 12591.6709\n",
      "Epoch: 023/050 | Batch 100/468 | Cost: 12960.7715\n",
      "Epoch: 023/050 | Batch 150/468 | Cost: 12523.4111\n",
      "Epoch: 023/050 | Batch 200/468 | Cost: 12412.1680\n",
      "Epoch: 023/050 | Batch 250/468 | Cost: 12903.5312\n",
      "Epoch: 023/050 | Batch 300/468 | Cost: 12594.6133\n",
      "Epoch: 023/050 | Batch 350/468 | Cost: 12297.9854\n",
      "Epoch: 023/050 | Batch 400/468 | Cost: 12799.8633\n",
      "Epoch: 023/050 | Batch 450/468 | Cost: 12447.3066\n",
      "Epoch: 024/050 | Batch 000/468 | Cost: 12051.4062\n",
      "Epoch: 024/050 | Batch 050/468 | Cost: 12499.7441\n",
      "Epoch: 024/050 | Batch 100/468 | Cost: 12356.7861\n",
      "Epoch: 024/050 | Batch 150/468 | Cost: 13004.5410\n",
      "Epoch: 024/050 | Batch 200/468 | Cost: 12255.6250\n",
      "Epoch: 024/050 | Batch 250/468 | Cost: 12497.0898\n",
      "Epoch: 024/050 | Batch 300/468 | Cost: 12404.1582\n",
      "Epoch: 024/050 | Batch 350/468 | Cost: 12492.5625\n",
      "Epoch: 024/050 | Batch 400/468 | Cost: 12354.6396\n",
      "Epoch: 024/050 | Batch 450/468 | Cost: 12099.9287\n",
      "Epoch: 025/050 | Batch 000/468 | Cost: 12379.0703\n",
      "Epoch: 025/050 | Batch 050/468 | Cost: 12869.5996\n",
      "Epoch: 025/050 | Batch 100/468 | Cost: 12396.0508\n",
      "Epoch: 025/050 | Batch 150/468 | Cost: 12974.7314\n",
      "Epoch: 025/050 | Batch 200/468 | Cost: 12822.7285\n",
      "Epoch: 025/050 | Batch 250/468 | Cost: 12781.7129\n",
      "Epoch: 025/050 | Batch 300/468 | Cost: 13106.1348\n",
      "Epoch: 025/050 | Batch 350/468 | Cost: 12481.8174\n",
      "Epoch: 025/050 | Batch 400/468 | Cost: 12706.0654\n",
      "Epoch: 025/050 | Batch 450/468 | Cost: 12762.4980\n",
      "Epoch: 026/050 | Batch 000/468 | Cost: 11865.4336\n",
      "Epoch: 026/050 | Batch 050/468 | Cost: 12337.5215\n",
      "Epoch: 026/050 | Batch 100/468 | Cost: 13057.4980\n",
      "Epoch: 026/050 | Batch 150/468 | Cost: 12937.6738\n",
      "Epoch: 026/050 | Batch 200/468 | Cost: 12640.6035\n",
      "Epoch: 026/050 | Batch 250/468 | Cost: 12520.6201\n",
      "Epoch: 026/050 | Batch 300/468 | Cost: 12521.5430\n",
      "Epoch: 026/050 | Batch 350/468 | Cost: 12059.1465\n",
      "Epoch: 026/050 | Batch 400/468 | Cost: 12795.3486\n",
      "Epoch: 026/050 | Batch 450/468 | Cost: 12373.7461\n",
      "Epoch: 027/050 | Batch 000/468 | Cost: 12497.1113\n",
      "Epoch: 027/050 | Batch 050/468 | Cost: 12649.5996\n",
      "Epoch: 027/050 | Batch 100/468 | Cost: 12239.7539\n",
      "Epoch: 027/050 | Batch 150/468 | Cost: 12912.6475\n",
      "Epoch: 027/050 | Batch 200/468 | Cost: 12560.6172\n",
      "Epoch: 027/050 | Batch 250/468 | Cost: 12206.8496\n",
      "Epoch: 027/050 | Batch 300/468 | Cost: 13006.6582\n",
      "Epoch: 027/050 | Batch 350/468 | Cost: 12250.6211\n",
      "Epoch: 027/050 | Batch 400/468 | Cost: 12626.8379\n",
      "Epoch: 027/050 | Batch 450/468 | Cost: 12506.3486\n",
      "Epoch: 028/050 | Batch 000/468 | Cost: 12707.7939\n",
      "Epoch: 028/050 | Batch 050/468 | Cost: 13056.9824\n",
      "Epoch: 028/050 | Batch 100/468 | Cost: 13034.6455\n",
      "Epoch: 028/050 | Batch 150/468 | Cost: 12753.4932\n",
      "Epoch: 028/050 | Batch 200/468 | Cost: 12427.6797\n",
      "Epoch: 028/050 | Batch 250/468 | Cost: 12695.5518\n",
      "Epoch: 028/050 | Batch 300/468 | Cost: 12147.1816\n",
      "Epoch: 028/050 | Batch 350/468 | Cost: 12279.5752\n",
      "Epoch: 028/050 | Batch 400/468 | Cost: 12429.9844\n",
      "Epoch: 028/050 | Batch 450/468 | Cost: 12359.7812\n",
      "Epoch: 029/050 | Batch 000/468 | Cost: 12506.9980\n",
      "Epoch: 029/050 | Batch 050/468 | Cost: 12664.6162\n",
      "Epoch: 029/050 | Batch 100/468 | Cost: 12325.9658\n",
      "Epoch: 029/050 | Batch 150/468 | Cost: 12349.9414\n",
      "Epoch: 029/050 | Batch 200/468 | Cost: 12827.4248\n",
      "Epoch: 029/050 | Batch 250/468 | Cost: 12504.8516\n",
      "Epoch: 029/050 | Batch 300/468 | Cost: 12325.3838\n",
      "Epoch: 029/050 | Batch 350/468 | Cost: 12207.3730\n",
      "Epoch: 029/050 | Batch 400/468 | Cost: 12547.4561\n",
      "Epoch: 029/050 | Batch 450/468 | Cost: 12418.6055\n",
      "Epoch: 030/050 | Batch 000/468 | Cost: 12372.1250\n",
      "Epoch: 030/050 | Batch 050/468 | Cost: 12449.8740\n",
      "Epoch: 030/050 | Batch 100/468 | Cost: 12220.4473\n",
      "Epoch: 030/050 | Batch 150/468 | Cost: 12526.9004\n",
      "Epoch: 030/050 | Batch 200/468 | Cost: 12164.7891\n",
      "Epoch: 030/050 | Batch 250/468 | Cost: 12102.0176\n",
      "Epoch: 030/050 | Batch 300/468 | Cost: 12907.2031\n",
      "Epoch: 030/050 | Batch 350/468 | Cost: 12550.7812\n",
      "Epoch: 030/050 | Batch 400/468 | Cost: 12630.7324\n",
      "Epoch: 030/050 | Batch 450/468 | Cost: 12527.3740\n",
      "Epoch: 031/050 | Batch 000/468 | Cost: 12493.3906\n",
      "Epoch: 031/050 | Batch 050/468 | Cost: 12497.4727\n",
      "Epoch: 031/050 | Batch 100/468 | Cost: 12352.2822\n",
      "Epoch: 031/050 | Batch 150/468 | Cost: 12351.5000\n",
      "Epoch: 031/050 | Batch 200/468 | Cost: 12397.6299\n",
      "Epoch: 031/050 | Batch 250/468 | Cost: 12750.2812\n",
      "Epoch: 031/050 | Batch 300/468 | Cost: 12985.6270\n",
      "Epoch: 031/050 | Batch 350/468 | Cost: 12362.7500\n",
      "Epoch: 031/050 | Batch 400/468 | Cost: 12258.8867\n",
      "Epoch: 031/050 | Batch 450/468 | Cost: 12452.0264\n",
      "Epoch: 032/050 | Batch 000/468 | Cost: 12240.3721\n",
      "Epoch: 032/050 | Batch 050/468 | Cost: 12529.8467\n",
      "Epoch: 032/050 | Batch 100/468 | Cost: 12467.4277\n",
      "Epoch: 032/050 | Batch 150/468 | Cost: 12825.2764\n",
      "Epoch: 032/050 | Batch 200/468 | Cost: 12574.9043\n",
      "Epoch: 032/050 | Batch 250/468 | Cost: 12652.4434\n",
      "Epoch: 032/050 | Batch 300/468 | Cost: 12601.5352\n",
      "Epoch: 032/050 | Batch 350/468 | Cost: 12800.1143\n",
      "Epoch: 032/050 | Batch 400/468 | Cost: 12304.6602\n",
      "Epoch: 032/050 | Batch 450/468 | Cost: 11977.9072\n",
      "Epoch: 033/050 | Batch 000/468 | Cost: 12281.5312\n",
      "Epoch: 033/050 | Batch 050/468 | Cost: 12205.3555\n",
      "Epoch: 033/050 | Batch 100/468 | Cost: 12175.1094\n",
      "Epoch: 033/050 | Batch 150/468 | Cost: 12460.2168\n",
      "Epoch: 033/050 | Batch 200/468 | Cost: 12355.7617\n",
      "Epoch: 033/050 | Batch 250/468 | Cost: 12227.3096\n",
      "Epoch: 033/050 | Batch 300/468 | Cost: 12475.3516\n",
      "Epoch: 033/050 | Batch 350/468 | Cost: 12171.8232\n",
      "Epoch: 033/050 | Batch 400/468 | Cost: 12494.2461\n",
      "Epoch: 033/050 | Batch 450/468 | Cost: 12847.0996\n",
      "Epoch: 034/050 | Batch 000/468 | Cost: 12397.8750\n",
      "Epoch: 034/050 | Batch 050/468 | Cost: 12781.9375\n",
      "Epoch: 034/050 | Batch 100/468 | Cost: 12462.0693\n",
      "Epoch: 034/050 | Batch 150/468 | Cost: 12428.6641\n",
      "Epoch: 034/050 | Batch 200/468 | Cost: 12600.2920\n",
      "Epoch: 034/050 | Batch 250/468 | Cost: 12870.7012\n",
      "Epoch: 034/050 | Batch 300/468 | Cost: 12148.1387\n",
      "Epoch: 034/050 | Batch 350/468 | Cost: 12757.8984\n",
      "Epoch: 034/050 | Batch 400/468 | Cost: 12486.4883\n",
      "Epoch: 034/050 | Batch 450/468 | Cost: 12697.1465\n",
      "Epoch: 035/050 | Batch 000/468 | Cost: 12283.7324\n",
      "Epoch: 035/050 | Batch 050/468 | Cost: 12357.1094\n",
      "Epoch: 035/050 | Batch 100/468 | Cost: 12410.4229\n",
      "Epoch: 035/050 | Batch 150/468 | Cost: 12287.7285\n",
      "Epoch: 035/050 | Batch 200/468 | Cost: 12537.4990\n",
      "Epoch: 035/050 | Batch 250/468 | Cost: 12302.6914\n",
      "Epoch: 035/050 | Batch 300/468 | Cost: 12194.5684\n",
      "Epoch: 035/050 | Batch 350/468 | Cost: 12950.6064\n",
      "Epoch: 035/050 | Batch 400/468 | Cost: 12779.4199\n",
      "Epoch: 035/050 | Batch 450/468 | Cost: 12397.7480\n",
      "Epoch: 036/050 | Batch 000/468 | Cost: 12492.4316\n",
      "Epoch: 036/050 | Batch 050/468 | Cost: 12137.9795\n",
      "Epoch: 036/050 | Batch 100/468 | Cost: 12373.8643\n",
      "Epoch: 036/050 | Batch 150/468 | Cost: 12630.1953\n",
      "Epoch: 036/050 | Batch 200/468 | Cost: 12609.3682\n",
      "Epoch: 036/050 | Batch 250/468 | Cost: 12647.9219\n",
      "Epoch: 036/050 | Batch 300/468 | Cost: 12576.7705\n",
      "Epoch: 036/050 | Batch 350/468 | Cost: 12358.5107\n",
      "Epoch: 036/050 | Batch 400/468 | Cost: 12574.1445\n",
      "Epoch: 036/050 | Batch 450/468 | Cost: 12316.2285\n",
      "Epoch: 037/050 | Batch 000/468 | Cost: 12067.6797\n",
      "Epoch: 037/050 | Batch 050/468 | Cost: 11987.9297\n",
      "Epoch: 037/050 | Batch 100/468 | Cost: 12608.9180\n",
      "Epoch: 037/050 | Batch 150/468 | Cost: 12436.6055\n",
      "Epoch: 037/050 | Batch 200/468 | Cost: 12885.3848\n",
      "Epoch: 037/050 | Batch 250/468 | Cost: 12308.7393\n",
      "Epoch: 037/050 | Batch 300/468 | Cost: 12385.9043\n",
      "Epoch: 037/050 | Batch 350/468 | Cost: 12607.8320\n",
      "Epoch: 037/050 | Batch 400/468 | Cost: 12541.5938\n",
      "Epoch: 037/050 | Batch 450/468 | Cost: 11915.2178\n",
      "Epoch: 038/050 | Batch 000/468 | Cost: 11761.3975\n",
      "Epoch: 038/050 | Batch 050/468 | Cost: 12529.7812\n",
      "Epoch: 038/050 | Batch 100/468 | Cost: 12696.8838\n",
      "Epoch: 038/050 | Batch 150/468 | Cost: 12278.1719\n",
      "Epoch: 038/050 | Batch 200/468 | Cost: 12524.1719\n",
      "Epoch: 038/050 | Batch 250/468 | Cost: 12913.2520\n",
      "Epoch: 038/050 | Batch 300/468 | Cost: 12289.5127\n",
      "Epoch: 038/050 | Batch 350/468 | Cost: 13020.3818\n",
      "Epoch: 038/050 | Batch 400/468 | Cost: 12297.6904\n",
      "Epoch: 038/050 | Batch 450/468 | Cost: 12032.1279\n",
      "Epoch: 039/050 | Batch 000/468 | Cost: 12412.8857\n",
      "Epoch: 039/050 | Batch 050/468 | Cost: 12099.1670\n",
      "Epoch: 039/050 | Batch 100/468 | Cost: 12649.4883\n",
      "Epoch: 039/050 | Batch 150/468 | Cost: 12487.1719\n",
      "Epoch: 039/050 | Batch 200/468 | Cost: 12438.8848\n",
      "Epoch: 039/050 | Batch 250/468 | Cost: 12595.0781\n",
      "Epoch: 039/050 | Batch 300/468 | Cost: 11997.2812\n",
      "Epoch: 039/050 | Batch 350/468 | Cost: 11904.8711\n",
      "Epoch: 039/050 | Batch 400/468 | Cost: 12203.1826\n",
      "Epoch: 039/050 | Batch 450/468 | Cost: 12639.0137\n",
      "Epoch: 040/050 | Batch 000/468 | Cost: 12326.7139\n",
      "Epoch: 040/050 | Batch 050/468 | Cost: 12148.8359\n",
      "Epoch: 040/050 | Batch 100/468 | Cost: 12097.3350\n",
      "Epoch: 040/050 | Batch 150/468 | Cost: 12693.4717\n",
      "Epoch: 040/050 | Batch 200/468 | Cost: 12490.9424\n",
      "Epoch: 040/050 | Batch 250/468 | Cost: 11655.4609\n",
      "Epoch: 040/050 | Batch 300/468 | Cost: 12395.5713\n",
      "Epoch: 040/050 | Batch 350/468 | Cost: 12555.2695\n",
      "Epoch: 040/050 | Batch 400/468 | Cost: 12080.2734\n",
      "Epoch: 040/050 | Batch 450/468 | Cost: 12026.9053\n",
      "Epoch: 041/050 | Batch 000/468 | Cost: 12525.3252\n",
      "Epoch: 041/050 | Batch 050/468 | Cost: 12732.1387\n",
      "Epoch: 041/050 | Batch 100/468 | Cost: 12283.6875\n",
      "Epoch: 041/050 | Batch 150/468 | Cost: 12837.9082\n",
      "Epoch: 041/050 | Batch 200/468 | Cost: 12119.6924\n",
      "Epoch: 041/050 | Batch 250/468 | Cost: 12862.2178\n",
      "Epoch: 041/050 | Batch 300/468 | Cost: 12016.7881\n",
      "Epoch: 041/050 | Batch 350/468 | Cost: 12061.7891\n",
      "Epoch: 041/050 | Batch 400/468 | Cost: 12159.2109\n",
      "Epoch: 041/050 | Batch 450/468 | Cost: 12662.9141\n",
      "Epoch: 042/050 | Batch 000/468 | Cost: 12015.2480\n",
      "Epoch: 042/050 | Batch 050/468 | Cost: 12315.9434\n",
      "Epoch: 042/050 | Batch 100/468 | Cost: 12785.5762\n",
      "Epoch: 042/050 | Batch 150/468 | Cost: 12002.6826\n",
      "Epoch: 042/050 | Batch 200/468 | Cost: 12703.5312\n",
      "Epoch: 042/050 | Batch 250/468 | Cost: 11999.4707\n",
      "Epoch: 042/050 | Batch 300/468 | Cost: 12071.0615\n",
      "Epoch: 042/050 | Batch 350/468 | Cost: 12160.1895\n",
      "Epoch: 042/050 | Batch 400/468 | Cost: 12525.7354\n",
      "Epoch: 042/050 | Batch 450/468 | Cost: 12277.5176\n",
      "Epoch: 043/050 | Batch 000/468 | Cost: 12500.5684\n",
      "Epoch: 043/050 | Batch 050/468 | Cost: 12428.6582\n",
      "Epoch: 043/050 | Batch 100/468 | Cost: 12287.0518\n",
      "Epoch: 043/050 | Batch 150/468 | Cost: 12639.1250\n",
      "Epoch: 043/050 | Batch 200/468 | Cost: 11858.4346\n",
      "Epoch: 043/050 | Batch 250/468 | Cost: 12063.3496\n",
      "Epoch: 043/050 | Batch 300/468 | Cost: 12646.9502\n",
      "Epoch: 043/050 | Batch 350/468 | Cost: 12360.9131\n",
      "Epoch: 043/050 | Batch 400/468 | Cost: 12759.9141\n",
      "Epoch: 043/050 | Batch 450/468 | Cost: 12404.3662\n",
      "Epoch: 044/050 | Batch 000/468 | Cost: 12181.7832\n",
      "Epoch: 044/050 | Batch 050/468 | Cost: 12316.8965\n",
      "Epoch: 044/050 | Batch 100/468 | Cost: 12470.4795\n",
      "Epoch: 044/050 | Batch 150/468 | Cost: 12243.0879\n",
      "Epoch: 044/050 | Batch 200/468 | Cost: 12459.6621\n",
      "Epoch: 044/050 | Batch 250/468 | Cost: 12569.2773\n",
      "Epoch: 044/050 | Batch 300/468 | Cost: 12264.9883\n",
      "Epoch: 044/050 | Batch 350/468 | Cost: 12529.5059\n",
      "Epoch: 044/050 | Batch 400/468 | Cost: 12610.6113\n",
      "Epoch: 044/050 | Batch 450/468 | Cost: 11951.8418\n",
      "Epoch: 045/050 | Batch 000/468 | Cost: 12877.7129\n",
      "Epoch: 045/050 | Batch 050/468 | Cost: 12091.2520\n",
      "Epoch: 045/050 | Batch 100/468 | Cost: 12256.1465\n",
      "Epoch: 045/050 | Batch 150/468 | Cost: 12650.7734\n",
      "Epoch: 045/050 | Batch 200/468 | Cost: 12610.3467\n",
      "Epoch: 045/050 | Batch 250/468 | Cost: 12242.5928\n",
      "Epoch: 045/050 | Batch 300/468 | Cost: 12350.8389\n",
      "Epoch: 045/050 | Batch 350/468 | Cost: 12370.6816\n",
      "Epoch: 045/050 | Batch 400/468 | Cost: 12467.0000\n",
      "Epoch: 045/050 | Batch 450/468 | Cost: 12390.2617\n",
      "Epoch: 046/050 | Batch 000/468 | Cost: 12027.9414\n",
      "Epoch: 046/050 | Batch 050/468 | Cost: 12080.4199\n",
      "Epoch: 046/050 | Batch 100/468 | Cost: 12531.3809\n",
      "Epoch: 046/050 | Batch 150/468 | Cost: 12273.7383\n",
      "Epoch: 046/050 | Batch 200/468 | Cost: 12477.6387\n",
      "Epoch: 046/050 | Batch 250/468 | Cost: 13134.9883\n",
      "Epoch: 046/050 | Batch 300/468 | Cost: 12230.4922\n",
      "Epoch: 046/050 | Batch 350/468 | Cost: 12620.6973\n",
      "Epoch: 046/050 | Batch 400/468 | Cost: 12488.2764\n",
      "Epoch: 046/050 | Batch 450/468 | Cost: 12642.0664\n",
      "Epoch: 047/050 | Batch 000/468 | Cost: 12171.0098\n",
      "Epoch: 047/050 | Batch 050/468 | Cost: 12537.1172\n",
      "Epoch: 047/050 | Batch 100/468 | Cost: 12170.4785\n",
      "Epoch: 047/050 | Batch 150/468 | Cost: 12629.6123\n",
      "Epoch: 047/050 | Batch 200/468 | Cost: 12644.9629\n",
      "Epoch: 047/050 | Batch 250/468 | Cost: 12746.8877\n",
      "Epoch: 047/050 | Batch 300/468 | Cost: 12078.2461\n",
      "Epoch: 047/050 | Batch 350/468 | Cost: 12131.1758\n",
      "Epoch: 047/050 | Batch 400/468 | Cost: 12543.4316\n",
      "Epoch: 047/050 | Batch 450/468 | Cost: 12474.4863\n",
      "Epoch: 048/050 | Batch 000/468 | Cost: 12597.7627\n",
      "Epoch: 048/050 | Batch 050/468 | Cost: 12681.8398\n",
      "Epoch: 048/050 | Batch 100/468 | Cost: 12360.9541\n",
      "Epoch: 048/050 | Batch 150/468 | Cost: 11639.6738\n",
      "Epoch: 048/050 | Batch 200/468 | Cost: 12007.1533\n",
      "Epoch: 048/050 | Batch 250/468 | Cost: 12268.2969\n",
      "Epoch: 048/050 | Batch 300/468 | Cost: 12663.7021\n",
      "Epoch: 048/050 | Batch 350/468 | Cost: 12411.9375\n",
      "Epoch: 048/050 | Batch 400/468 | Cost: 12195.3770\n",
      "Epoch: 048/050 | Batch 450/468 | Cost: 13172.2549\n",
      "Epoch: 049/050 | Batch 000/468 | Cost: 12106.8613\n",
      "Epoch: 049/050 | Batch 050/468 | Cost: 12295.4121\n",
      "Epoch: 049/050 | Batch 100/468 | Cost: 11981.5625\n",
      "Epoch: 049/050 | Batch 150/468 | Cost: 12404.6973\n",
      "Epoch: 049/050 | Batch 200/468 | Cost: 12515.1797\n",
      "Epoch: 049/050 | Batch 250/468 | Cost: 12305.8369\n",
      "Epoch: 049/050 | Batch 300/468 | Cost: 12384.3057\n",
      "Epoch: 049/050 | Batch 350/468 | Cost: 12221.2148\n",
      "Epoch: 049/050 | Batch 400/468 | Cost: 12519.9707\n",
      "Epoch: 049/050 | Batch 450/468 | Cost: 12478.9980\n",
      "Epoch: 050/050 | Batch 000/468 | Cost: 12291.9688\n",
      "Epoch: 050/050 | Batch 050/468 | Cost: 12555.4775\n",
      "Epoch: 050/050 | Batch 100/468 | Cost: 12375.2314\n",
      "Epoch: 050/050 | Batch 150/468 | Cost: 12880.3701\n",
      "Epoch: 050/050 | Batch 200/468 | Cost: 12220.5312\n",
      "Epoch: 050/050 | Batch 250/468 | Cost: 12622.7715\n",
      "Epoch: 050/050 | Batch 300/468 | Cost: 12489.2744\n",
      "Epoch: 050/050 | Batch 350/468 | Cost: 12557.7373\n",
      "Epoch: 050/050 | Batch 400/468 | Cost: 13059.2207\n",
      "Epoch: 050/050 | Batch 450/468 | Cost: 12637.9443\n"
     ]
    }
   ],
   "source": [
    "for epoch in range(num_epochs):\n",
    "    for batch_idx, (features, targets) in enumerate(train_loader):\n",
    "        \n",
    "        features = features.view(-1, 28*28).to(device)\n",
    "        targets = targets.to(device)\n",
    "\n",
    "        ### FORWARD AND BACK PROP\n",
    "        z_mean, z_log_var, encoded, decoded = model(features, targets)\n",
    "\n",
    "        # cost = reconstruction loss + Kullback-Leibler divergence\n",
    "        kl_divergence = (0.5 * (z_mean**2 + \n",
    "                                torch.exp(z_log_var) - z_log_var - 1)).sum()\n",
    "        \n",
    "        ### Add condition\n",
    "        # Disabled for reconstruction loss as it gives poor results\n",
    "        # x_con = torch.cat((features, to_onehot(targets, num_classes, device)), dim=1)\n",
    "        \n",
    "        ### Compute loss\n",
    "        # pixelwise_bce = F.binary_cross_entropy(decoded, x_con, reduction='sum')\n",
    "        pixelwise_bce = F.binary_cross_entropy(decoded, features, reduction='sum')\n",
    "        cost = kl_divergence + pixelwise_bce\n",
    "        \n",
    "        ### UPDATE MODEL PARAMETERS\n",
    "        optimizer.zero_grad()\n",
    "        cost.backward()\n",
    "        optimizer.step()\n",
    "        \n",
    "        ### LOGGING\n",
    "        if not batch_idx % 50:\n",
    "            print ('Epoch: %03d/%03d | Batch %03d/%03d | Cost: %.4f' \n",
    "                   %(epoch+1, num_epochs, batch_idx, \n",
    "                     len(train_dataset)//batch_size, cost))"
   ]
  },
  {
   "cell_type": "markdown",
   "metadata": {},
   "source": [
    "# Evaluation"
   ]
  },
  {
   "cell_type": "markdown",
   "metadata": {},
   "source": [
    "### Reconstruction"
   ]
  },
  {
   "cell_type": "code",
   "execution_count": 7,
   "metadata": {},
   "outputs": [
    {
     "data": {
      "image/png": "[encoded data removed]",
      "text/plain": [
       "<Figure size 1440x180 with 30 Axes>"
      ]
     },
     "metadata": {
      "needs_background": "light"
     },
     "output_type": "display_data"
    }
   ],
   "source": [
    "%matplotlib inline\n",
    "import matplotlib.pyplot as plt\n",
    "\n",
    "##########################\n",
    "### VISUALIZATION\n",
    "##########################\n",
    "\n",
    "n_images = 15\n",
    "image_width = 28\n",
    "\n",
    "fig, axes = plt.subplots(nrows=2, ncols=n_images, \n",
    "                         sharex=True, sharey=True, figsize=(20, 2.5))\n",
    "orig_images = features[:n_images]\n",
    "decoded_images = decoded[:n_images]\n",
    "\n",
    "for i in range(n_images):\n",
    "    for ax, img in zip(axes, [orig_images, decoded_images]):\n",
    "        ax[i].imshow(img[i].detach().reshape((image_width, image_width)), cmap='binary')"
   ]
  },
  {
   "cell_type": "markdown",
   "metadata": {},
   "source": [
    "### New random-conditional images"
   ]
  },
  {
   "cell_type": "code",
   "execution_count": 9,
   "metadata": {},
   "outputs": [
    {
     "name": "stdout",
     "output_type": "stream",
     "text": [
      "Class Label 0\n"
     ]
    },
    {
     "data": {
      "image/png": "[encoded data removed]",
      "text/plain": [
       "<Figure size 720x180 with 10 Axes>"
      ]
     },
     "metadata": {
      "needs_background": "light"
     },
     "output_type": "display_data"
    },
    {
     "name": "stdout",
     "output_type": "stream",
     "text": [
      "Class Label 1\n"
     ]
    },
    {
     "data": {
      "image/png": "[encoded data removed]",
      "text/plain": [
       "<Figure size 720x180 with 10 Axes>"
      ]
     },
     "metadata": {
      "needs_background": "light"
     },
     "output_type": "display_data"
    },
    {
     "name": "stdout",
     "output_type": "stream",
     "text": [
      "Class Label 2\n"
     ]
    },
    {
     "data": {
      "image/png": "[encoded data removed]",
      "text/plain": [
       "<Figure size 720x180 with 10 Axes>"
      ]
     },
     "metadata": {
      "needs_background": "light"
     },
     "output_type": "display_data"
    },
    {
     "name": "stdout",
     "output_type": "stream",
     "text": [
      "Class Label 3\n"
     ]
    },
    {
     "data": {
      "image/png": "[encoded data removed]",
      "text/plain": [
       "<Figure size 720x180 with 10 Axes>"
      ]
     },
     "metadata": {
      "needs_background": "light"
     },
     "output_type": "display_data"
    },
    {
     "name": "stdout",
     "output_type": "stream",
     "text": [
      "Class Label 4\n"
     ]
    },
    {
     "data": {
      "image/png": "[encoded data removed]",
      "text/plain": [
       "<Figure size 720x180 with 10 Axes>"
      ]
     },
     "metadata": {
      "needs_background": "light"
     },
     "output_type": "display_data"
    },
    {
     "name": "stdout",
     "output_type": "stream",
     "text": [
      "Class Label 5\n"
     ]
    },
    {
     "data": {
      "image/png": "[encoded data removed]",
      "text/plain": [
       "<Figure size 720x180 with 10 Axes>"
      ]
     },
     "metadata": {
      "needs_background": "light"
     },
     "output_type": "display_data"
    },
    {
     "name": "stdout",
     "output_type": "stream",
     "text": [
      "Class Label 6\n"
     ]
    },
    {
     "data": {
      "image/png": "[encoded data removed]",
      "text/plain": [
       "<Figure size 720x180 with 10 Axes>"
      ]
     },
     "metadata": {
      "needs_background": "light"
     },
     "output_type": "display_data"
    },
    {
     "name": "stdout",
     "output_type": "stream",
     "text": [
      "Class Label 7\n"
     ]
    },
    {
     "data": {
      "image/png": "[encoded data removed]",
      "text/plain": [
       "<Figure size 720x180 with 10 Axes>"
      ]
     },
     "metadata": {
      "needs_background": "light"
     },
     "output_type": "display_data"
    },
    {
     "name": "stdout",
     "output_type": "stream",
     "text": [
      "Class Label 8\n"
     ]
    },
    {
     "data": {
      "image/png": "[encoded data removed]",
      "text/plain": [
       "<Figure size 720x180 with 10 Axes>"
      ]
     },
     "metadata": {
      "needs_background": "light"
     },
     "output_type": "display_data"
    },
    {
     "name": "stdout",
     "output_type": "stream",
     "text": [
      "Class Label 9\n"
     ]
    },
    {
     "data": {
      "image/png": "[encoded data removed]",
      "text/plain": [
       "<Figure size 720x180 with 10 Axes>"
      ]
     },
     "metadata": {
      "needs_background": "light"
     },
     "output_type": "display_data"
    }
   ],
   "source": [
    "for i in range(10):\n",
    "\n",
    "    ##########################\n",
    "    ### RANDOM SAMPLE\n",
    "    ##########################    \n",
    "    \n",
    "    labels = torch.tensor([i]*10).to(device)\n",
    "    n_images = labels.size()[0]\n",
    "    rand_features = torch.randn(n_images, num_latent).to(device)\n",
    "    new_images = model.decoder(rand_features, labels)\n",
    "\n",
    "    ##########################\n",
    "    ### VISUALIZATION\n",
    "    ##########################\n",
    "\n",
    "    image_width = 28\n",
    "\n",
    "    fig, axes = plt.subplots(nrows=1, ncols=n_images, figsize=(10, 2.5), sharey=True)\n",
    "    decoded_images = new_images[:n_images]\n",
    "\n",
    "    print('Class Label %d' % i)\n",
    "\n",
    "    for ax, img in zip(axes, decoded_images):\n",
    "        ax.imshow(img.detach().reshape((image_width, image_width)), cmap='binary')\n",
    "        \n",
    "    plt.show()"
   ]
  },
  {
   "cell_type": "code",
   "execution_count": null,
   "metadata": {},
   "outputs": [],
   "source": []
  }
 ],
 "metadata": {
  "kernelspec": {
   "display_name": "Python 3",
   "language": "python",
   "name": "python3"
  },
  "language_info": {
   "codemirror_mode": {
    "name": "ipython",
    "version": 3
   },
   "file_extension": ".py",
   "mimetype": "text/x-python",
   "name": "python",
   "nbconvert_exporter": "python",
   "pygments_lexer": "ipython3",
   "version": "3.6.7"
  },
  "toc": {
   "nav_menu": {},
   "number_sections": true,
   "sideBar": true,
   "skip_h1_title": false,
   "title_cell": "Table of Contents",
   "title_sidebar": "Contents",
   "toc_cell": false,
   "toc_position": {},
   "toc_section_display": true,
   "toc_window_display": false
  }
 },
 "nbformat": 4,
 "nbformat_minor": 2
}
