{
 "cells": [
  {
   "cell_type": "markdown",
   "metadata": {},
   "source": [
    "*Accompanying code examples of the book \"Introduction to Artificial Neural Networks and Deep Learning: A Practical Guide with Applications in Python\" by [Sebastian Raschka](https://sebastianraschka.com). All code examples are released under the [MIT license](https://github.com/rasbt/deep-learning-book/blob/master/LICENSE). If you find this content useful, please consider supporting the work by buying a [copy of the book](https://leanpub.com/ann-and-deeplearning).*\n",
    "  \n",
    "Other code examples and content are available on [GitHub](https://github.com/rasbt/deep-learning-book). The PDF and ebook versions of the book are available through [Leanpub](https://leanpub.com/ann-and-deeplearning)."
   ]
  },
  {
   "cell_type": "code",
   "execution_count": 1,
   "metadata": {},
   "outputs": [
    {
     "name": "stdout",
     "output_type": "stream",
     "text": [
      "Sebastian Raschka \n",
      "\n",
      "CPython 3.6.7\n",
      "IPython 7.2.0\n",
      "\n",
      "torch 0.4.1\n"
     ]
    }
   ],
   "source": [
    "%load_ext watermark\n",
    "%watermark -a 'Sebastian Raschka' -v -p torch"
   ]
  },
  {
   "cell_type": "markdown",
   "metadata": {},
   "source": [
    "- Runs on CPU or GPU (if available)"
   ]
  },
  {
   "cell_type": "markdown",
   "metadata": {},
   "source": [
    "# Model Zoo -- All-Convolutional Neural Network"
   ]
  },
  {
   "cell_type": "markdown",
   "metadata": {},
   "source": [
    "Simple convolutional neural network that uses stride=2 every 2nd convolutional layer, instead of max pooling, to reduce the feature maps."
   ]
  },
  {
   "cell_type": "markdown",
   "metadata": {},
   "source": [
    "## Imports"
   ]
  },
  {
   "cell_type": "code",
   "execution_count": 2,
   "metadata": {},
   "outputs": [],
   "source": [
    "import numpy as np\n",
    "import torch\n",
    "import torch.nn.functional as F\n",
    "from torchvision import datasets\n",
    "from torchvision import transforms\n",
    "from torch.utils.data import DataLoader"
   ]
  },
  {
   "cell_type": "markdown",
   "metadata": {},
   "source": [
    "## Settings and Dataset"
   ]
  },
  {
   "cell_type": "code",
   "execution_count": 3,
   "metadata": {},
   "outputs": [
    {
     "name": "stdout",
     "output_type": "stream",
     "text": [
      "Image batch dimensions: torch.Size([128, 1, 28, 28])\n",
      "Image label dimensions: torch.Size([128])\n"
     ]
    }
   ],
   "source": [
    "##########################\n",
    "### SETTINGS\n",
    "##########################\n",
    "\n",
    "# Device\n",
    "device = torch.device(\"cuda:0\" if torch.cuda.is_available() else \"cpu\")\n",
    "\n",
    "# Hyperparameters\n",
    "random_seed = 1\n",
    "learning_rate = 0.05\n",
    "num_epochs = 10\n",
    "batch_size = 128\n",
    "\n",
    "# Architecture\n",
    "num_classes = 10\n",
    "\n",
    "\n",
    "##########################\n",
    "### MNIST DATASET\n",
    "##########################\n",
    "\n",
    "# Note transforms.ToTensor() scales input images\n",
    "# to 0-1 range\n",
    "train_dataset = datasets.MNIST(root='data', \n",
    "                               train=True, \n",
    "                               transform=transforms.ToTensor(),\n",
    "                               download=True)\n",
    "\n",
    "test_dataset = datasets.MNIST(root='data', \n",
    "                              train=False, \n",
    "                              transform=transforms.ToTensor())\n",
    "\n",
    "\n",
    "train_loader = DataLoader(dataset=train_dataset, \n",
    "                          batch_size=batch_size, \n",
    "                          shuffle=True)\n",
    "\n",
    "test_loader = DataLoader(dataset=test_dataset, \n",
    "                         batch_size=batch_size, \n",
    "                         shuffle=False)\n",
    "\n",
    "# Checking the dataset\n",
    "for images, labels in train_loader:  \n",
    "    print('Image batch dimensions:', images.shape)\n",
    "    print('Image label dimensions:', labels.shape)\n",
    "    break"
   ]
  },
  {
   "cell_type": "markdown",
   "metadata": {},
   "source": [
    "## Model"
   ]
  },
  {
   "cell_type": "code",
   "execution_count": 4,
   "metadata": {},
   "outputs": [],
   "source": [
    "##########################\n",
    "### MODEL\n",
    "##########################\n",
    "\n",
    "\n",
    "class ConvNet(torch.nn.Module):\n",
    "\n",
    "    def __init__(self, num_classes):\n",
    "        super(ConvNet, self).__init__()\n",
    "        \n",
    "        # calculate same padding:\n",
    "        # (w - k + 2*p)/s + 1 = o\n",
    "        # => p = (s(o-1) - w + k)/2\n",
    "        \n",
    "        # 28x28x1 => 28x28x4\n",
    "        self.conv_1 = torch.nn.Conv2d(in_channels=1,\n",
    "                                      out_channels=4,\n",
    "                                      kernel_size=(3, 3),\n",
    "                                      stride=(1, 1),\n",
    "                                      padding=1) # (1(28-1) - 28 + 3) / 2 = 1\n",
    "        # 28x28x4 => 14x14x4\n",
    "        self.conv_2 = torch.nn.Conv2d(in_channels=4,\n",
    "                                      out_channels=4,\n",
    "                                      kernel_size=(3, 3),\n",
    "                                      stride=(2, 2),\n",
    "                                      padding=1)                             \n",
    "        # 14x14x4 => 14x14x8\n",
    "        self.conv_3 = torch.nn.Conv2d(in_channels=4,\n",
    "                                      out_channels=8,\n",
    "                                      kernel_size=(3, 3),\n",
    "                                      stride=(1, 1),\n",
    "                                      padding=1) # (1(14-1) - 14 + 3) / 2 = 1                 \n",
    "        # 14x14x8 => 7x7x8                             \n",
    "        self.conv_4 = torch.nn.Conv2d(in_channels=8,\n",
    "                                      out_channels=8,\n",
    "                                      kernel_size=(3, 3),\n",
    "                                      stride=(2, 2),\n",
    "                                      padding=1)      \n",
    "        \n",
    "        self.linear_1 = torch.nn.Linear(7*7*8, num_classes)\n",
    "\n",
    "        \n",
    "    def forward(self, x):\n",
    "        out = self.conv_1(x)\n",
    "        out = F.relu(out)\n",
    "        \n",
    "        out = self.conv_2(out)\n",
    "        out = F.relu(out)\n",
    "\n",
    "        out = self.conv_3(out)\n",
    "        out = F.relu(out)\n",
    "\n",
    "        out = self.conv_4(out)\n",
    "        out = F.relu(out)\n",
    "        \n",
    "        logits = self.linear_1(out.view(-1, 7*7*8))\n",
    "        probas = F.softmax(logits, dim=1)\n",
    "        return logits, probas\n",
    "\n",
    "    \n",
    "torch.manual_seed(random_seed)\n",
    "model = ConvNet(num_classes=num_classes)\n",
    "\n",
    "model = model.to(device)\n",
    "    \n",
    "\n",
    "##########################\n",
    "### COST AND OPTIMIZER\n",
    "##########################\n",
    "\n",
    "cost_fn = torch.nn.CrossEntropyLoss()  \n",
    "optimizer = torch.optim.SGD(model.parameters(), lr=learning_rate)  "
   ]
  },
  {
   "cell_type": "markdown",
   "metadata": {},
   "source": [
    "## Training"
   ]
  },
  {
   "cell_type": "code",
   "execution_count": 5,
   "metadata": {},
   "outputs": [
    {
     "name": "stdout",
     "output_type": "stream",
     "text": [
      "Epoch: 001/010 | Batch 000/468 | Cost: 2.3009\n",
      "Epoch: 001/010 | Batch 050/468 | Cost: 2.3018\n",
      "Epoch: 001/010 | Batch 100/468 | Cost: 2.3004\n",
      "Epoch: 001/010 | Batch 150/468 | Cost: 2.3042\n",
      "Epoch: 001/010 | Batch 200/468 | Cost: 2.2943\n",
      "Epoch: 001/010 | Batch 250/468 | Cost: 2.3018\n",
      "Epoch: 001/010 | Batch 300/468 | Cost: 2.3028\n",
      "Epoch: 001/010 | Batch 350/468 | Cost: 2.2976\n",
      "Epoch: 001/010 | Batch 400/468 | Cost: 2.2962\n",
      "Epoch: 001/010 | Batch 450/468 | Cost: 2.3038\n",
      "Epoch: 001/010 training accuracy: 11.24%\n",
      "Epoch: 002/010 | Batch 000/468 | Cost: 2.2939\n",
      "Epoch: 002/010 | Batch 050/468 | Cost: 2.2908\n",
      "Epoch: 002/010 | Batch 100/468 | Cost: 2.2964\n",
      "Epoch: 002/010 | Batch 150/468 | Cost: 2.2795\n",
      "Epoch: 002/010 | Batch 200/468 | Cost: 2.2201\n",
      "Epoch: 002/010 | Batch 250/468 | Cost: 0.7496\n",
      "Epoch: 002/010 | Batch 300/468 | Cost: 0.3076\n",
      "Epoch: 002/010 | Batch 350/468 | Cost: 0.3408\n",
      "Epoch: 002/010 | Batch 400/468 | Cost: 0.4012\n",
      "Epoch: 002/010 | Batch 450/468 | Cost: 0.3613\n",
      "Epoch: 002/010 training accuracy: 91.80%\n",
      "Epoch: 003/010 | Batch 000/468 | Cost: 0.2427\n",
      "Epoch: 003/010 | Batch 050/468 | Cost: 0.2136\n",
      "Epoch: 003/010 | Batch 100/468 | Cost: 0.1842\n",
      "Epoch: 003/010 | Batch 150/468 | Cost: 0.1980\n",
      "Epoch: 003/010 | Batch 200/468 | Cost: 0.1926\n",
      "Epoch: 003/010 | Batch 250/468 | Cost: 0.1788\n",
      "Epoch: 003/010 | Batch 300/468 | Cost: 0.1108\n",
      "Epoch: 003/010 | Batch 350/468 | Cost: 0.2370\n",
      "Epoch: 003/010 | Batch 400/468 | Cost: 0.1807\n",
      "Epoch: 003/010 | Batch 450/468 | Cost: 0.1527\n",
      "Epoch: 003/010 training accuracy: 93.93%\n",
      "Epoch: 004/010 | Batch 000/468 | Cost: 0.0865\n",
      "Epoch: 004/010 | Batch 050/468 | Cost: 0.2438\n",
      "Epoch: 004/010 | Batch 100/468 | Cost: 0.1387\n",
      "Epoch: 004/010 | Batch 150/468 | Cost: 0.1595\n",
      "Epoch: 004/010 | Batch 200/468 | Cost: 0.0664\n",
      "Epoch: 004/010 | Batch 250/468 | Cost: 0.0803\n",
      "Epoch: 004/010 | Batch 300/468 | Cost: 0.1182\n",
      "Epoch: 004/010 | Batch 350/468 | Cost: 0.1078\n",
      "Epoch: 004/010 | Batch 400/468 | Cost: 0.1266\n",
      "Epoch: 004/010 | Batch 450/468 | Cost: 0.0881\n",
      "Epoch: 004/010 training accuracy: 96.47%\n",
      "Epoch: 005/010 | Batch 000/468 | Cost: 0.1871\n",
      "Epoch: 005/010 | Batch 050/468 | Cost: 0.1321\n",
      "Epoch: 005/010 | Batch 100/468 | Cost: 0.2413\n",
      "Epoch: 005/010 | Batch 150/468 | Cost: 0.1393\n",
      "Epoch: 005/010 | Batch 200/468 | Cost: 0.0749\n",
      "Epoch: 005/010 | Batch 250/468 | Cost: 0.1434\n",
      "Epoch: 005/010 | Batch 300/468 | Cost: 0.0877\n",
      "Epoch: 005/010 | Batch 350/468 | Cost: 0.1585\n",
      "Epoch: 005/010 | Batch 400/468 | Cost: 0.1042\n",
      "Epoch: 005/010 | Batch 450/468 | Cost: 0.1784\n",
      "Epoch: 005/010 training accuracy: 97.16%\n",
      "Epoch: 006/010 | Batch 000/468 | Cost: 0.0713\n",
      "Epoch: 006/010 | Batch 050/468 | Cost: 0.0582\n",
      "Epoch: 006/010 | Batch 100/468 | Cost: 0.1074\n",
      "Epoch: 006/010 | Batch 150/468 | Cost: 0.1087\n",
      "Epoch: 006/010 | Batch 200/468 | Cost: 0.0456\n",
      "Epoch: 006/010 | Batch 250/468 | Cost: 0.1350\n",
      "Epoch: 006/010 | Batch 300/468 | Cost: 0.0883\n",
      "Epoch: 006/010 | Batch 350/468 | Cost: 0.0423\n",
      "Epoch: 006/010 | Batch 400/468 | Cost: 0.0720\n",
      "Epoch: 006/010 | Batch 450/468 | Cost: 0.0991\n",
      "Epoch: 006/010 training accuracy: 96.99%\n",
      "Epoch: 007/010 | Batch 000/468 | Cost: 0.0372\n",
      "Epoch: 007/010 | Batch 050/468 | Cost: 0.1033\n",
      "Epoch: 007/010 | Batch 100/468 | Cost: 0.0751\n",
      "Epoch: 007/010 | Batch 150/468 | Cost: 0.0453\n",
      "Epoch: 007/010 | Batch 200/468 | Cost: 0.0242\n",
      "Epoch: 007/010 | Batch 250/468 | Cost: 0.0936\n",
      "Epoch: 007/010 | Batch 300/468 | Cost: 0.0576\n",
      "Epoch: 007/010 | Batch 350/468 | Cost: 0.1536\n",
      "Epoch: 007/010 | Batch 400/468 | Cost: 0.1900\n",
      "Epoch: 007/010 | Batch 450/468 | Cost: 0.0803\n",
      "Epoch: 007/010 training accuracy: 97.71%\n",
      "Epoch: 008/010 | Batch 000/468 | Cost: 0.1164\n",
      "Epoch: 008/010 | Batch 050/468 | Cost: 0.0688\n",
      "Epoch: 008/010 | Batch 100/468 | Cost: 0.1489\n",
      "Epoch: 008/010 | Batch 150/468 | Cost: 0.0444\n",
      "Epoch: 008/010 | Batch 200/468 | Cost: 0.0847\n",
      "Epoch: 008/010 | Batch 250/468 | Cost: 0.0904\n",
      "Epoch: 008/010 | Batch 300/468 | Cost: 0.0433\n",
      "Epoch: 008/010 | Batch 350/468 | Cost: 0.0822\n",
      "Epoch: 008/010 | Batch 400/468 | Cost: 0.0566\n",
      "Epoch: 008/010 | Batch 450/468 | Cost: 0.1155\n",
      "Epoch: 008/010 training accuracy: 97.79%\n",
      "Epoch: 009/010 | Batch 000/468 | Cost: 0.1528\n",
      "Epoch: 009/010 | Batch 050/468 | Cost: 0.0651\n",
      "Epoch: 009/010 | Batch 100/468 | Cost: 0.0289\n",
      "Epoch: 009/010 | Batch 150/468 | Cost: 0.0355\n",
      "Epoch: 009/010 | Batch 200/468 | Cost: 0.0397\n",
      "Epoch: 009/010 | Batch 250/468 | Cost: 0.0750\n",
      "Epoch: 009/010 | Batch 300/468 | Cost: 0.1246\n",
      "Epoch: 009/010 | Batch 350/468 | Cost: 0.0717\n",
      "Epoch: 009/010 | Batch 400/468 | Cost: 0.1067\n",
      "Epoch: 009/010 | Batch 450/468 | Cost: 0.0067\n",
      "Epoch: 009/010 training accuracy: 97.97%\n",
      "Epoch: 010/010 | Batch 000/468 | Cost: 0.0278\n",
      "Epoch: 010/010 | Batch 050/468 | Cost: 0.0722\n",
      "Epoch: 010/010 | Batch 100/468 | Cost: 0.0459\n",
      "Epoch: 010/010 | Batch 150/468 | Cost: 0.1442\n",
      "Epoch: 010/010 | Batch 200/468 | Cost: 0.1843\n",
      "Epoch: 010/010 | Batch 250/468 | Cost: 0.0809\n",
      "Epoch: 010/010 | Batch 300/468 | Cost: 0.0769\n",
      "Epoch: 010/010 | Batch 350/468 | Cost: 0.0539\n",
      "Epoch: 010/010 | Batch 400/468 | Cost: 0.1441\n",
      "Epoch: 010/010 | Batch 450/468 | Cost: 0.0203\n",
      "Epoch: 010/010 training accuracy: 98.05%\n"
     ]
    }
   ],
   "source": [
    "def compute_accuracy(model, data_loader):\n",
    "    correct_pred, num_examples = 0, 0\n",
    "    for features, targets in data_loader:\n",
    "        features = features.to(device)\n",
    "        targets = targets.to(device)\n",
    "        logits, probas = model(features)\n",
    "        _, predicted_labels = torch.max(probas, 1)\n",
    "        num_examples += targets.size(0)\n",
    "        correct_pred += (predicted_labels == targets).sum()\n",
    "    return correct_pred.float()/num_examples * 100\n",
    "    \n",
    "\n",
    "for epoch in range(num_epochs):\n",
    "    model = model.train()\n",
    "    for batch_idx, (features, targets) in enumerate(train_loader):\n",
    "        \n",
    "        features = features.to(device)\n",
    "        targets = targets.to(device)\n",
    "\n",
    "        ### FORWARD AND BACK PROP\n",
    "        logits, probas = model(features)\n",
    "        cost = cost_fn(logits, targets)\n",
    "        optimizer.zero_grad()\n",
    "        \n",
    "        cost.backward()\n",
    "        \n",
    "        ### UPDATE MODEL PARAMETERS\n",
    "        optimizer.step()\n",
    "        \n",
    "        ### LOGGING\n",
    "        if not batch_idx % 50:\n",
    "            print ('Epoch: %03d/%03d | Batch %03d/%03d | Cost: %.4f' \n",
    "                   %(epoch+1, num_epochs, batch_idx, \n",
    "                     len(train_dataset)//batch_size, cost))\n",
    "    \n",
    "    model = model.eval()\n",
    "    print('Epoch: %03d/%03d training accuracy: %.2f%%' % (\n",
    "          epoch+1, num_epochs, \n",
    "          compute_accuracy(model, train_loader)))"
   ]
  },
  {
   "cell_type": "markdown",
   "metadata": {},
   "source": [
    "## Evaluation"
   ]
  },
  {
   "cell_type": "code",
   "execution_count": 6,
   "metadata": {},
   "outputs": [
    {
     "name": "stdout",
     "output_type": "stream",
     "text": [
      "Test accuracy: 97.73%\n"
     ]
    }
   ],
   "source": [
    "print('Test accuracy: %.2f%%' % (compute_accuracy(model, test_loader)))"
   ]
  }
 ],
 "metadata": {
  "kernelspec": {
   "display_name": "Python 3",
   "language": "python",
   "name": "python3"
  },
  "language_info": {
   "codemirror_mode": {
    "name": "ipython",
    "version": 3
   },
   "file_extension": ".py",
   "mimetype": "text/x-python",
   "name": "python",
   "nbconvert_exporter": "python",
   "pygments_lexer": "ipython3",
   "version": "3.6.7"
  },
  "toc": {
   "nav_menu": {},
   "number_sections": true,
   "sideBar": true,
   "skip_h1_title": false,
   "title_cell": "Table of Contents",
   "title_sidebar": "Contents",
   "toc_cell": false,
   "toc_position": {},
   "toc_section_display": true,
   "toc_window_display": false
  }
 },
 "nbformat": 4,
 "nbformat_minor": 2
}
